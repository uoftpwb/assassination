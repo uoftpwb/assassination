{
 "cells": [
  {
   "cell_type": "markdown",
   "metadata": {},
   "source": [
    "# Preparation"
   ]
  },
  {
   "cell_type": "markdown",
   "metadata": {},
   "source": [
    "## Install the useful packages"
   ]
  },
  {
   "cell_type": "code",
   "execution_count": 1,
   "metadata": {},
   "outputs": [
    {
     "data": {
      "text/html": [
       "<ol>\n",
       "\t<li><style>\n",
       ".list-inline {list-style: none; margin:0; padding: 0}\n",
       ".list-inline>li {display: inline-block}\n",
       ".list-inline>li:not(:last-child)::after {content: \"\\00b7\"; padding: 0 .5ex}\n",
       "</style>\n",
       "<ol class=list-inline><li>'easypackages'</li><li>'stats'</li><li>'graphics'</li><li>'grDevices'</li><li>'utils'</li><li>'datasets'</li><li>'methods'</li><li>'base'</li></ol>\n",
       "</li>\n",
       "</ol>\n"
      ],
      "text/latex": [
       "\\begin{enumerate}\n",
       "\\item \\begin{enumerate*}\n",
       "\\item 'easypackages'\n",
       "\\item 'stats'\n",
       "\\item 'graphics'\n",
       "\\item 'grDevices'\n",
       "\\item 'utils'\n",
       "\\item 'datasets'\n",
       "\\item 'methods'\n",
       "\\item 'base'\n",
       "\\end{enumerate*}\n",
       "\n",
       "\\end{enumerate}\n"
      ],
      "text/markdown": [
       "1. 1. 'easypackages'\n",
       "2. 'stats'\n",
       "3. 'graphics'\n",
       "4. 'grDevices'\n",
       "5. 'utils'\n",
       "6. 'datasets'\n",
       "7. 'methods'\n",
       "8. 'base'\n",
       "\n",
       "\n",
       "\n",
       "\n",
       "\n"
      ],
      "text/plain": [
       "[[1]]\n",
       "[1] \"easypackages\" \"stats\"        \"graphics\"     \"grDevices\"    \"utils\"       \n",
       "[6] \"datasets\"     \"methods\"      \"base\"        \n"
      ]
     },
     "metadata": {},
     "output_type": "display_data"
    },
    {
     "name": "stderr",
     "output_type": "stream",
     "text": [
      "Loading required package: dplyr\n",
      "\n",
      "\n",
      "Attaching package: ‘dplyr’\n",
      "\n",
      "\n",
      "The following objects are masked from ‘package:stats’:\n",
      "\n",
      "    filter, lag\n",
      "\n",
      "\n",
      "The following objects are masked from ‘package:base’:\n",
      "\n",
      "    intersect, setdiff, setequal, union\n",
      "\n",
      "\n",
      "Loading required package: tidyr\n",
      "\n",
      "All packages loaded successfully\n",
      "\n"
     ]
    }
   ],
   "source": [
    "myPackages <- c(\"easypackages\")\n",
    "#the argument `lib.loc = \"~/rlib\"` is used because the packages were installed in this folder in my case\n",
    "lapply(myPackages, library, lib.loc = \"~/rlib\", character.only = TRUE) \n",
    "libraries(\"dplyr\", \"tidyr\")"
   ]
  },
  {
   "cell_type": "markdown",
   "metadata": {},
   "source": [
    "## Load the merged data"
   ]
  },
  {
   "cell_type": "code",
   "execution_count": 2,
   "metadata": {},
   "outputs": [],
   "source": [
    "#Data\n",
    "load(\"descriptives\")"
   ]
  },
  {
   "cell_type": "code",
   "execution_count": 3,
   "metadata": {},
   "outputs": [
    {
     "data": {
      "text/html": [
       "<table class=\"dataframe\">\n",
       "<caption>A tibble: 6 × 32</caption>\n",
       "<thead>\n",
       "\t<tr><th scope=col>event_id</th><th scope=col>country</th><th scope=col>country_code</th><th scope=col>country_code_c</th><th scope=col>event_date</th><th scope=col>event_year</th><th scope=col>start_year</th><th scope=col>year</th><th scope=col>after</th><th scope=col>weight</th><th scope=col>⋯</th><th scope=col>EMP_2010</th><th scope=col>WP1223.MARITAL</th><th scope=col>pa</th><th scope=col>na</th><th scope=col>REGION_ALL</th><th scope=col>year_number</th><th scope=col>year_after</th><th scope=col>gdp</th><th scope=col>dem</th><th scope=col>loggdp_z</th></tr>\n",
       "\t<tr><th scope=col>&lt;fct&gt;</th><th scope=col>&lt;chr&gt;</th><th scope=col>&lt;chr&gt;</th><th scope=col>&lt;chr&gt;</th><th scope=col>&lt;date&gt;</th><th scope=col>&lt;dbl&gt;</th><th scope=col>&lt;dbl&gt;</th><th scope=col>&lt;dbl&gt;</th><th scope=col>&lt;dbl&gt;</th><th scope=col>&lt;dbl&gt;</th><th scope=col>⋯</th><th scope=col>&lt;dbl&gt;</th><th scope=col>&lt;dbl&gt;</th><th scope=col>&lt;dbl&gt;</th><th scope=col>&lt;dbl&gt;</th><th scope=col>&lt;chr&gt;</th><th scope=col>&lt;dbl&gt;</th><th scope=col>&lt;dbl&gt;</th><th scope=col>&lt;dbl&gt;</th><th scope=col>&lt;dbl&gt;</th><th scope=col>&lt;dbl&gt;</th></tr>\n",
       "</thead>\n",
       "<tbody>\n",
       "\t<tr><td>1</td><td>Armenia</td><td>51</td><td>ARM</td><td>2013-01-31</td><td>2013</td><td>2010</td><td>2010</td><td>0</td><td>1.2329449</td><td>⋯</td><td>6</td><td>1</td><td>1.0</td><td>0.25</td><td>ARM_1</td><td>-2.587269</td><td>0</td><td>7507.145</td><td>0.194</td><td>-0.2010166</td></tr>\n",
       "\t<tr><td>1</td><td>Armenia</td><td>51</td><td>ARM</td><td>2013-01-31</td><td>2013</td><td>2010</td><td>2010</td><td>0</td><td>1.2263343</td><td>⋯</td><td>6</td><td>2</td><td>0.5</td><td>0.25</td><td>ARM_1</td><td>-2.587269</td><td>0</td><td>7507.145</td><td>0.194</td><td>-0.2010166</td></tr>\n",
       "\t<tr><td>1</td><td>Armenia</td><td>51</td><td>ARM</td><td>2013-01-31</td><td>2013</td><td>2010</td><td>2010</td><td>0</td><td>0.7397670</td><td>⋯</td><td>4</td><td>1</td><td>0.5</td><td>0.50</td><td>ARM_1</td><td>-2.587269</td><td>0</td><td>7507.145</td><td>0.194</td><td>-0.2010166</td></tr>\n",
       "\t<tr><td>1</td><td>Armenia</td><td>51</td><td>ARM</td><td>2013-01-31</td><td>2013</td><td>2010</td><td>2010</td><td>0</td><td>1.2329514</td><td>⋯</td><td>4</td><td>2</td><td>1.0</td><td>0.75</td><td>ARM_1</td><td>-2.587269</td><td>0</td><td>7507.145</td><td>0.194</td><td>-0.2010166</td></tr>\n",
       "\t<tr><td>1</td><td>Armenia</td><td>51</td><td>ARM</td><td>2013-01-31</td><td>2013</td><td>2010</td><td>2010</td><td>0</td><td>0.3850559</td><td>⋯</td><td>4</td><td>1</td><td>0.5</td><td>0.75</td><td>ARM_1</td><td>-2.587269</td><td>0</td><td>7507.145</td><td>0.194</td><td>-0.2010166</td></tr>\n",
       "\t<tr><td>1</td><td>Armenia</td><td>51</td><td>ARM</td><td>2013-01-31</td><td>2013</td><td>2010</td><td>2010</td><td>0</td><td>0.5775838</td><td>⋯</td><td>3</td><td>1</td><td>0.5</td><td>0.75</td><td>ARM_1</td><td>-2.587269</td><td>0</td><td>7507.145</td><td>0.194</td><td>-0.2010166</td></tr>\n",
       "</tbody>\n",
       "</table>\n"
      ],
      "text/latex": [
       "A tibble: 6 × 32\n",
       "\\begin{tabular}{lllllllllllllllllllll}\n",
       " event\\_id & country & country\\_code & country\\_code\\_c & event\\_date & event\\_year & start\\_year & year & after & weight & ⋯ & EMP\\_2010 & WP1223.MARITAL & pa & na & REGION\\_ALL & year\\_number & year\\_after & gdp & dem & loggdp\\_z\\\\\n",
       " <fct> & <chr> & <chr> & <chr> & <date> & <dbl> & <dbl> & <dbl> & <dbl> & <dbl> & ⋯ & <dbl> & <dbl> & <dbl> & <dbl> & <chr> & <dbl> & <dbl> & <dbl> & <dbl> & <dbl>\\\\\n",
       "\\hline\n",
       "\t 1 & Armenia & 51 & ARM & 2013-01-31 & 2013 & 2010 & 2010 & 0 & 1.2329449 & ⋯ & 6 & 1 & 1.0 & 0.25 & ARM\\_1 & -2.587269 & 0 & 7507.145 & 0.194 & -0.2010166\\\\\n",
       "\t 1 & Armenia & 51 & ARM & 2013-01-31 & 2013 & 2010 & 2010 & 0 & 1.2263343 & ⋯ & 6 & 2 & 0.5 & 0.25 & ARM\\_1 & -2.587269 & 0 & 7507.145 & 0.194 & -0.2010166\\\\\n",
       "\t 1 & Armenia & 51 & ARM & 2013-01-31 & 2013 & 2010 & 2010 & 0 & 0.7397670 & ⋯ & 4 & 1 & 0.5 & 0.50 & ARM\\_1 & -2.587269 & 0 & 7507.145 & 0.194 & -0.2010166\\\\\n",
       "\t 1 & Armenia & 51 & ARM & 2013-01-31 & 2013 & 2010 & 2010 & 0 & 1.2329514 & ⋯ & 4 & 2 & 1.0 & 0.75 & ARM\\_1 & -2.587269 & 0 & 7507.145 & 0.194 & -0.2010166\\\\\n",
       "\t 1 & Armenia & 51 & ARM & 2013-01-31 & 2013 & 2010 & 2010 & 0 & 0.3850559 & ⋯ & 4 & 1 & 0.5 & 0.75 & ARM\\_1 & -2.587269 & 0 & 7507.145 & 0.194 & -0.2010166\\\\\n",
       "\t 1 & Armenia & 51 & ARM & 2013-01-31 & 2013 & 2010 & 2010 & 0 & 0.5775838 & ⋯ & 3 & 1 & 0.5 & 0.75 & ARM\\_1 & -2.587269 & 0 & 7507.145 & 0.194 & -0.2010166\\\\\n",
       "\\end{tabular}\n"
      ],
      "text/markdown": [
       "\n",
       "A tibble: 6 × 32\n",
       "\n",
       "| event_id &lt;fct&gt; | country &lt;chr&gt; | country_code &lt;chr&gt; | country_code_c &lt;chr&gt; | event_date &lt;date&gt; | event_year &lt;dbl&gt; | start_year &lt;dbl&gt; | year &lt;dbl&gt; | after &lt;dbl&gt; | weight &lt;dbl&gt; | ⋯ ⋯ | EMP_2010 &lt;dbl&gt; | WP1223.MARITAL &lt;dbl&gt; | pa &lt;dbl&gt; | na &lt;dbl&gt; | REGION_ALL &lt;chr&gt; | year_number &lt;dbl&gt; | year_after &lt;dbl&gt; | gdp &lt;dbl&gt; | dem &lt;dbl&gt; | loggdp_z &lt;dbl&gt; |\n",
       "|---|---|---|---|---|---|---|---|---|---|---|---|---|---|---|---|---|---|---|---|---|\n",
       "| 1 | Armenia | 51 | ARM | 2013-01-31 | 2013 | 2010 | 2010 | 0 | 1.2329449 | ⋯ | 6 | 1 | 1.0 | 0.25 | ARM_1 | -2.587269 | 0 | 7507.145 | 0.194 | -0.2010166 |\n",
       "| 1 | Armenia | 51 | ARM | 2013-01-31 | 2013 | 2010 | 2010 | 0 | 1.2263343 | ⋯ | 6 | 2 | 0.5 | 0.25 | ARM_1 | -2.587269 | 0 | 7507.145 | 0.194 | -0.2010166 |\n",
       "| 1 | Armenia | 51 | ARM | 2013-01-31 | 2013 | 2010 | 2010 | 0 | 0.7397670 | ⋯ | 4 | 1 | 0.5 | 0.50 | ARM_1 | -2.587269 | 0 | 7507.145 | 0.194 | -0.2010166 |\n",
       "| 1 | Armenia | 51 | ARM | 2013-01-31 | 2013 | 2010 | 2010 | 0 | 1.2329514 | ⋯ | 4 | 2 | 1.0 | 0.75 | ARM_1 | -2.587269 | 0 | 7507.145 | 0.194 | -0.2010166 |\n",
       "| 1 | Armenia | 51 | ARM | 2013-01-31 | 2013 | 2010 | 2010 | 0 | 0.3850559 | ⋯ | 4 | 1 | 0.5 | 0.75 | ARM_1 | -2.587269 | 0 | 7507.145 | 0.194 | -0.2010166 |\n",
       "| 1 | Armenia | 51 | ARM | 2013-01-31 | 2013 | 2010 | 2010 | 0 | 0.5775838 | ⋯ | 3 | 1 | 0.5 | 0.75 | ARM_1 | -2.587269 | 0 | 7507.145 | 0.194 | -0.2010166 |\n",
       "\n"
      ],
      "text/plain": [
       "  event_id country country_code country_code_c event_date event_year start_year\n",
       "1 1        Armenia 51           ARM            2013-01-31 2013       2010      \n",
       "2 1        Armenia 51           ARM            2013-01-31 2013       2010      \n",
       "3 1        Armenia 51           ARM            2013-01-31 2013       2010      \n",
       "4 1        Armenia 51           ARM            2013-01-31 2013       2010      \n",
       "5 1        Armenia 51           ARM            2013-01-31 2013       2010      \n",
       "6 1        Armenia 51           ARM            2013-01-31 2013       2010      \n",
       "  year after weight    ⋯ EMP_2010 WP1223.MARITAL pa  na   REGION_ALL\n",
       "1 2010 0     1.2329449 ⋯ 6        1              1.0 0.25 ARM_1     \n",
       "2 2010 0     1.2263343 ⋯ 6        2              0.5 0.25 ARM_1     \n",
       "3 2010 0     0.7397670 ⋯ 4        1              0.5 0.50 ARM_1     \n",
       "4 2010 0     1.2329514 ⋯ 4        2              1.0 0.75 ARM_1     \n",
       "5 2010 0     0.3850559 ⋯ 4        1              0.5 0.75 ARM_1     \n",
       "6 2010 0     0.5775838 ⋯ 3        1              0.5 0.75 ARM_1     \n",
       "  year_number year_after gdp      dem   loggdp_z  \n",
       "1 -2.587269   0          7507.145 0.194 -0.2010166\n",
       "2 -2.587269   0          7507.145 0.194 -0.2010166\n",
       "3 -2.587269   0          7507.145 0.194 -0.2010166\n",
       "4 -2.587269   0          7507.145 0.194 -0.2010166\n",
       "5 -2.587269   0          7507.145 0.194 -0.2010166\n",
       "6 -2.587269   0          7507.145 0.194 -0.2010166"
      ]
     },
     "metadata": {},
     "output_type": "display_data"
    },
    {
     "data": {
      "text/html": [
       "<style>\n",
       ".list-inline {list-style: none; margin:0; padding: 0}\n",
       ".list-inline>li {display: inline-block}\n",
       ".list-inline>li:not(:last-child)::after {content: \"\\00b7\"; padding: 0 .5ex}\n",
       "</style>\n",
       "<ol class=list-inline><li>'event_id'</li><li>'country'</li><li>'country_code'</li><li>'country_code_c'</li><li>'event_date'</li><li>'event_year'</li><li>'start_year'</li><li>'year'</li><li>'after'</li><li>'weight'</li><li>'survey_date'</li><li>'WP4.INTERVIEWDATE'</li><li>'ls'</li><li>'hope'</li><li>'smile'</li><li>'enjoy'</li><li>'worry'</li><li>'sad'</li><li>'stress'</li><li>'anger'</li><li>'WP1219.MALE'</li><li>'WP1220.AGE'</li><li>'EMP_2010'</li><li>'WP1223.MARITAL'</li><li>'pa'</li><li>'na'</li><li>'REGION_ALL'</li><li>'year_number'</li><li>'year_after'</li><li>'gdp'</li><li>'dem'</li><li>'loggdp_z'</li></ol>\n"
      ],
      "text/latex": [
       "\\begin{enumerate*}\n",
       "\\item 'event\\_id'\n",
       "\\item 'country'\n",
       "\\item 'country\\_code'\n",
       "\\item 'country\\_code\\_c'\n",
       "\\item 'event\\_date'\n",
       "\\item 'event\\_year'\n",
       "\\item 'start\\_year'\n",
       "\\item 'year'\n",
       "\\item 'after'\n",
       "\\item 'weight'\n",
       "\\item 'survey\\_date'\n",
       "\\item 'WP4.INTERVIEWDATE'\n",
       "\\item 'ls'\n",
       "\\item 'hope'\n",
       "\\item 'smile'\n",
       "\\item 'enjoy'\n",
       "\\item 'worry'\n",
       "\\item 'sad'\n",
       "\\item 'stress'\n",
       "\\item 'anger'\n",
       "\\item 'WP1219.MALE'\n",
       "\\item 'WP1220.AGE'\n",
       "\\item 'EMP\\_2010'\n",
       "\\item 'WP1223.MARITAL'\n",
       "\\item 'pa'\n",
       "\\item 'na'\n",
       "\\item 'REGION\\_ALL'\n",
       "\\item 'year\\_number'\n",
       "\\item 'year\\_after'\n",
       "\\item 'gdp'\n",
       "\\item 'dem'\n",
       "\\item 'loggdp\\_z'\n",
       "\\end{enumerate*}\n"
      ],
      "text/markdown": [
       "1. 'event_id'\n",
       "2. 'country'\n",
       "3. 'country_code'\n",
       "4. 'country_code_c'\n",
       "5. 'event_date'\n",
       "6. 'event_year'\n",
       "7. 'start_year'\n",
       "8. 'year'\n",
       "9. 'after'\n",
       "10. 'weight'\n",
       "11. 'survey_date'\n",
       "12. 'WP4.INTERVIEWDATE'\n",
       "13. 'ls'\n",
       "14. 'hope'\n",
       "15. 'smile'\n",
       "16. 'enjoy'\n",
       "17. 'worry'\n",
       "18. 'sad'\n",
       "19. 'stress'\n",
       "20. 'anger'\n",
       "21. 'WP1219.MALE'\n",
       "22. 'WP1220.AGE'\n",
       "23. 'EMP_2010'\n",
       "24. 'WP1223.MARITAL'\n",
       "25. 'pa'\n",
       "26. 'na'\n",
       "27. 'REGION_ALL'\n",
       "28. 'year_number'\n",
       "29. 'year_after'\n",
       "30. 'gdp'\n",
       "31. 'dem'\n",
       "32. 'loggdp_z'\n",
       "\n",
       "\n"
      ],
      "text/plain": [
       " [1] \"event_id\"          \"country\"           \"country_code\"     \n",
       " [4] \"country_code_c\"    \"event_date\"        \"event_year\"       \n",
       " [7] \"start_year\"        \"year\"              \"after\"            \n",
       "[10] \"weight\"            \"survey_date\"       \"WP4.INTERVIEWDATE\"\n",
       "[13] \"ls\"                \"hope\"              \"smile\"            \n",
       "[16] \"enjoy\"             \"worry\"             \"sad\"              \n",
       "[19] \"stress\"            \"anger\"             \"WP1219.MALE\"      \n",
       "[22] \"WP1220.AGE\"        \"EMP_2010\"          \"WP1223.MARITAL\"   \n",
       "[25] \"pa\"                \"na\"                \"REGION_ALL\"       \n",
       "[28] \"year_number\"       \"year_after\"        \"gdp\"              \n",
       "[31] \"dem\"               \"loggdp_z\"         "
      ]
     },
     "metadata": {},
     "output_type": "display_data"
    }
   ],
   "source": [
    "head(des)\n",
    "colnames(des)"
   ]
  },
  {
   "cell_type": "markdown",
   "metadata": {},
   "source": [
    "## Drop the rows if pa, na, ls AND hope are all NA"
   ]
  },
  {
   "cell_type": "code",
   "execution_count": 4,
   "metadata": {},
   "outputs": [
    {
     "name": "stdout",
     "output_type": "stream",
     "text": [
      "Number of rows in ORIGINAL data frame: 118134 \n",
      "Number of rows in NEW data frame: 118120 \n",
      "Number of dropped rows: 14"
     ]
    }
   ],
   "source": [
    "des2 <- des\n",
    "des2 <- des2[rowSums(is.na(des[,c(\"ls\", \"hope\", \"pa\", \"na\")]))!=4,]\n",
    "cat(\"Number of rows in ORIGINAL data frame:\", nrow(des), \"\\n\")\n",
    "cat(\"Number of rows in NEW data frame:\", nrow(des2), \"\\n\")\n",
    "cat(\"Number of dropped rows:\", nrow(des) - nrow(des2))"
   ]
  },
  {
   "cell_type": "code",
   "execution_count": 5,
   "metadata": {},
   "outputs": [],
   "source": [
    "# a function just for rounding all the numbers in the dataframe\n",
    "round_df <- function(x, digits) {\n",
    "    # round all numeric variables\n",
    "    # x: data frame \n",
    "    # digits: number of digits to round\n",
    "    numeric_columns <- sapply(x, mode) == 'numeric'\n",
    "    x[numeric_columns] <-  round(x[numeric_columns], digits)\n",
    "    x\n",
    "}"
   ]
  },
  {
   "cell_type": "markdown",
   "metadata": {},
   "source": [
    "# Descriptive Statistics for the continuous variable (dem, gdp, hope, ls, pa, na)"
   ]
  },
  {
   "cell_type": "code",
   "execution_count": 8,
   "metadata": {},
   "outputs": [
    {
     "data": {
      "text/html": [
       "<table class=\"dataframe\">\n",
       "<caption>A tibble: 8 × 6</caption>\n",
       "<thead>\n",
       "\t<tr><th scope=col>name</th><th scope=col>MIN</th><th scope=col>MAX</th><th scope=col>MEAN</th><th scope=col>SD</th><th scope=col>NumOfNAs</th></tr>\n",
       "\t<tr><th scope=col>&lt;chr&gt;</th><th scope=col>&lt;dbl&gt;</th><th scope=col>&lt;dbl&gt;</th><th scope=col>&lt;dbl&gt;</th><th scope=col>&lt;dbl&gt;</th><th scope=col>&lt;dbl&gt;</th></tr>\n",
       "</thead>\n",
       "<tbody>\n",
       "\t<tr><td>dem       </td><td>   0.04200</td><td>    0.85300</td><td>    0.42416</td><td>    0.25194</td><td>   0</td></tr>\n",
       "\t<tr><td>gdp       </td><td>1068.24485</td><td>65094.79943</td><td>17190.79393</td><td>17148.75714</td><td>   0</td></tr>\n",
       "\t<tr><td>hope      </td><td>   0.00000</td><td>   10.00000</td><td>    6.74984</td><td>    2.48481</td><td>8054</td></tr>\n",
       "\t<tr><td>loggdp_z  </td><td>  -1.86907</td><td>    1.64682</td><td>   -0.00007</td><td>    0.99999</td><td>   0</td></tr>\n",
       "\t<tr><td>ls        </td><td>   0.00000</td><td>   10.00000</td><td>    5.31604</td><td>    2.44485</td><td>1000</td></tr>\n",
       "\t<tr><td>na        </td><td>   0.00000</td><td>    1.00000</td><td>    0.31411</td><td>    0.32996</td><td>6415</td></tr>\n",
       "\t<tr><td>pa        </td><td>   0.00000</td><td>    1.00000</td><td>    0.70813</td><td>    0.38576</td><td>6408</td></tr>\n",
       "\t<tr><td>WP1220.AGE</td><td>  15.00000</td><td>   99.00000</td><td>   41.36278</td><td>   17.77300</td><td> 568</td></tr>\n",
       "</tbody>\n",
       "</table>\n"
      ],
      "text/latex": [
       "A tibble: 8 × 6\n",
       "\\begin{tabular}{llllll}\n",
       " name & MIN & MAX & MEAN & SD & NumOfNAs\\\\\n",
       " <chr> & <dbl> & <dbl> & <dbl> & <dbl> & <dbl>\\\\\n",
       "\\hline\n",
       "\t dem        &    0.04200 &     0.85300 &     0.42416 &     0.25194 &    0\\\\\n",
       "\t gdp        & 1068.24485 & 65094.79943 & 17190.79393 & 17148.75714 &    0\\\\\n",
       "\t hope       &    0.00000 &    10.00000 &     6.74984 &     2.48481 & 8054\\\\\n",
       "\t loggdp\\_z   &   -1.86907 &     1.64682 &    -0.00007 &     0.99999 &    0\\\\\n",
       "\t ls         &    0.00000 &    10.00000 &     5.31604 &     2.44485 & 1000\\\\\n",
       "\t na         &    0.00000 &     1.00000 &     0.31411 &     0.32996 & 6415\\\\\n",
       "\t pa         &    0.00000 &     1.00000 &     0.70813 &     0.38576 & 6408\\\\\n",
       "\t WP1220.AGE &   15.00000 &    99.00000 &    41.36278 &    17.77300 &  568\\\\\n",
       "\\end{tabular}\n"
      ],
      "text/markdown": [
       "\n",
       "A tibble: 8 × 6\n",
       "\n",
       "| name &lt;chr&gt; | MIN &lt;dbl&gt; | MAX &lt;dbl&gt; | MEAN &lt;dbl&gt; | SD &lt;dbl&gt; | NumOfNAs &lt;dbl&gt; |\n",
       "|---|---|---|---|---|---|\n",
       "| dem        |    0.04200 |     0.85300 |     0.42416 |     0.25194 |    0 |\n",
       "| gdp        | 1068.24485 | 65094.79943 | 17190.79393 | 17148.75714 |    0 |\n",
       "| hope       |    0.00000 |    10.00000 |     6.74984 |     2.48481 | 8054 |\n",
       "| loggdp_z   |   -1.86907 |     1.64682 |    -0.00007 |     0.99999 |    0 |\n",
       "| ls         |    0.00000 |    10.00000 |     5.31604 |     2.44485 | 1000 |\n",
       "| na         |    0.00000 |     1.00000 |     0.31411 |     0.32996 | 6415 |\n",
       "| pa         |    0.00000 |     1.00000 |     0.70813 |     0.38576 | 6408 |\n",
       "| WP1220.AGE |   15.00000 |    99.00000 |    41.36278 |    17.77300 |  568 |\n",
       "\n"
      ],
      "text/plain": [
       "  name       MIN        MAX         MEAN        SD          NumOfNAs\n",
       "1 dem           0.04200     0.85300     0.42416     0.25194    0    \n",
       "2 gdp        1068.24485 65094.79943 17190.79393 17148.75714    0    \n",
       "3 hope          0.00000    10.00000     6.74984     2.48481 8054    \n",
       "4 loggdp_z     -1.86907     1.64682    -0.00007     0.99999    0    \n",
       "5 ls            0.00000    10.00000     5.31604     2.44485 1000    \n",
       "6 na            0.00000     1.00000     0.31411     0.32996 6415    \n",
       "7 pa            0.00000     1.00000     0.70813     0.38576 6408    \n",
       "8 WP1220.AGE   15.00000    99.00000    41.36278    17.77300  568    "
      ]
     },
     "metadata": {},
     "output_type": "display_data"
    }
   ],
   "source": [
    "des2 %>% select(dem, gdp, loggdp_z, WP1220.AGE, hope, ls, pa, na) %>%\n",
    "      pivot_longer(everything()) %>%\n",
    "      group_by(name) %>%\n",
    "       summarise_at(vars(value), list(MIN = ~min(., na.rm = TRUE), \n",
    "                                      MAX = ~max(., na.rm = TRUE),\n",
    "                                      MEAN = ~mean(., na.rm = TRUE),\n",
    "                                      SD = ~sd(., na.rm = TRUE),\n",
    "                                      NumOfNAs = ~sum(is.na(.)))) %>% round_df(., 5)"
   ]
  },
  {
   "cell_type": "markdown",
   "metadata": {},
   "source": [
    "# Descriptive Statistics for the categorical variable (event_id, country, WP1219.MALE, EMP_2010, WP1223.MARITAL)"
   ]
  },
  {
   "cell_type": "markdown",
   "metadata": {},
   "source": [
    "## event_id"
   ]
  },
  {
   "cell_type": "code",
   "execution_count": 13,
   "metadata": {},
   "outputs": [
    {
     "data": {
      "text/html": [
       "<table class=\"dataframe\">\n",
       "<caption>A data.frame: 18 × 2</caption>\n",
       "<thead>\n",
       "\t<tr><th scope=col>event_id</th><th scope=col>proportion</th></tr>\n",
       "\t<tr><th scope=col>&lt;fct&gt;</th><th scope=col>&lt;dbl&gt;</th></tr>\n",
       "</thead>\n",
       "<tbody>\n",
       "\t<tr><td>1 </td><td>0.05078733</td></tr>\n",
       "\t<tr><td>2 </td><td>0.05079580</td></tr>\n",
       "\t<tr><td>3 </td><td>0.05084660</td></tr>\n",
       "\t<tr><td>4 </td><td>0.05586692</td></tr>\n",
       "\t<tr><td>5 </td><td>0.06840501</td></tr>\n",
       "\t<tr><td>6 </td><td>0.05132069</td></tr>\n",
       "\t<tr><td>7 </td><td>0.05079580</td></tr>\n",
       "\t<tr><td>8 </td><td>0.05086353</td></tr>\n",
       "\t<tr><td>9 </td><td>0.06784626</td></tr>\n",
       "\t<tr><td>10</td><td>0.05079580</td></tr>\n",
       "\t<tr><td>11</td><td>0.05093126</td></tr>\n",
       "\t<tr><td>12</td><td>0.06777853</td></tr>\n",
       "\t<tr><td>13</td><td>0.05079580</td></tr>\n",
       "\t<tr><td>14</td><td>0.06776160</td></tr>\n",
       "\t<tr><td>15</td><td>0.05092279</td></tr>\n",
       "\t<tr><td>16</td><td>0.05152387</td></tr>\n",
       "\t<tr><td>17</td><td>0.06043007</td></tr>\n",
       "\t<tr><td>18</td><td>0.05153234</td></tr>\n",
       "</tbody>\n",
       "</table>\n"
      ],
      "text/latex": [
       "A data.frame: 18 × 2\n",
       "\\begin{tabular}{ll}\n",
       " event\\_id & proportion\\\\\n",
       " <fct> & <dbl>\\\\\n",
       "\\hline\n",
       "\t 1  & 0.05078733\\\\\n",
       "\t 2  & 0.05079580\\\\\n",
       "\t 3  & 0.05084660\\\\\n",
       "\t 4  & 0.05586692\\\\\n",
       "\t 5  & 0.06840501\\\\\n",
       "\t 6  & 0.05132069\\\\\n",
       "\t 7  & 0.05079580\\\\\n",
       "\t 8  & 0.05086353\\\\\n",
       "\t 9  & 0.06784626\\\\\n",
       "\t 10 & 0.05079580\\\\\n",
       "\t 11 & 0.05093126\\\\\n",
       "\t 12 & 0.06777853\\\\\n",
       "\t 13 & 0.05079580\\\\\n",
       "\t 14 & 0.06776160\\\\\n",
       "\t 15 & 0.05092279\\\\\n",
       "\t 16 & 0.05152387\\\\\n",
       "\t 17 & 0.06043007\\\\\n",
       "\t 18 & 0.05153234\\\\\n",
       "\\end{tabular}\n"
      ],
      "text/markdown": [
       "\n",
       "A data.frame: 18 × 2\n",
       "\n",
       "| event_id &lt;fct&gt; | proportion &lt;dbl&gt; |\n",
       "|---|---|\n",
       "| 1  | 0.05078733 |\n",
       "| 2  | 0.05079580 |\n",
       "| 3  | 0.05084660 |\n",
       "| 4  | 0.05586692 |\n",
       "| 5  | 0.06840501 |\n",
       "| 6  | 0.05132069 |\n",
       "| 7  | 0.05079580 |\n",
       "| 8  | 0.05086353 |\n",
       "| 9  | 0.06784626 |\n",
       "| 10 | 0.05079580 |\n",
       "| 11 | 0.05093126 |\n",
       "| 12 | 0.06777853 |\n",
       "| 13 | 0.05079580 |\n",
       "| 14 | 0.06776160 |\n",
       "| 15 | 0.05092279 |\n",
       "| 16 | 0.05152387 |\n",
       "| 17 | 0.06043007 |\n",
       "| 18 | 0.05153234 |\n",
       "\n"
      ],
      "text/plain": [
       "   event_id proportion\n",
       "1  1        0.05078733\n",
       "2  2        0.05079580\n",
       "3  3        0.05084660\n",
       "4  4        0.05586692\n",
       "5  5        0.06840501\n",
       "6  6        0.05132069\n",
       "7  7        0.05079580\n",
       "8  8        0.05086353\n",
       "9  9        0.06784626\n",
       "10 10       0.05079580\n",
       "11 11       0.05093126\n",
       "12 12       0.06777853\n",
       "13 13       0.05079580\n",
       "14 14       0.06776160\n",
       "15 15       0.05092279\n",
       "16 16       0.05152387\n",
       "17 17       0.06043007\n",
       "18 18       0.05153234"
      ]
     },
     "metadata": {},
     "output_type": "display_data"
    }
   ],
   "source": [
    "des2$event_id %>% table %>% prop.table %>% data.frame %>% setNames(c(\"event_id\", \"proportion\"))"
   ]
  },
  {
   "cell_type": "markdown",
   "metadata": {},
   "source": [
    "## country"
   ]
  },
  {
   "cell_type": "code",
   "execution_count": 10,
   "metadata": {},
   "outputs": [
    {
     "data": {
      "text/html": [
       "<table class=\"dataframe\">\n",
       "<caption>A data.frame: 18 × 2</caption>\n",
       "<thead>\n",
       "\t<tr><th scope=col>country</th><th scope=col>proportion</th></tr>\n",
       "\t<tr><th scope=col>&lt;fct&gt;</th><th scope=col>&lt;dbl&gt;</th></tr>\n",
       "</thead>\n",
       "<tbody>\n",
       "\t<tr><td>Armenia   </td><td>0.05078733</td></tr>\n",
       "\t<tr><td>Bolivia   </td><td>0.05079580</td></tr>\n",
       "\t<tr><td>Bulgaria  </td><td>0.05084660</td></tr>\n",
       "\t<tr><td>Cambodia  </td><td>0.05586692</td></tr>\n",
       "\t<tr><td>Canada    </td><td>0.06840501</td></tr>\n",
       "\t<tr><td>Colombia  </td><td>0.05079580</td></tr>\n",
       "\t<tr><td>Guinea    </td><td>0.05086353</td></tr>\n",
       "\t<tr><td>Italy     </td><td>0.06784626</td></tr>\n",
       "\t<tr><td>Kenya     </td><td>0.05079580</td></tr>\n",
       "\t<tr><td>Kosovo    </td><td>0.05153234</td></tr>\n",
       "\t<tr><td>Niger     </td><td>0.05093126</td></tr>\n",
       "\t<tr><td>Spain     </td><td>0.06777853</td></tr>\n",
       "\t<tr><td>Sri Lanka </td><td>0.05132069</td></tr>\n",
       "\t<tr><td>Tajikistan</td><td>0.05079580</td></tr>\n",
       "\t<tr><td>Turkey    </td><td>0.06776160</td></tr>\n",
       "\t<tr><td>Uganda    </td><td>0.05092279</td></tr>\n",
       "\t<tr><td>US        </td><td>0.06043007</td></tr>\n",
       "\t<tr><td>Zimbabwe  </td><td>0.05152387</td></tr>\n",
       "</tbody>\n",
       "</table>\n"
      ],
      "text/latex": [
       "A data.frame: 18 × 2\n",
       "\\begin{tabular}{ll}\n",
       " country & proportion\\\\\n",
       " <fct> & <dbl>\\\\\n",
       "\\hline\n",
       "\t Armenia    & 0.05078733\\\\\n",
       "\t Bolivia    & 0.05079580\\\\\n",
       "\t Bulgaria   & 0.05084660\\\\\n",
       "\t Cambodia   & 0.05586692\\\\\n",
       "\t Canada     & 0.06840501\\\\\n",
       "\t Colombia   & 0.05079580\\\\\n",
       "\t Guinea     & 0.05086353\\\\\n",
       "\t Italy      & 0.06784626\\\\\n",
       "\t Kenya      & 0.05079580\\\\\n",
       "\t Kosovo     & 0.05153234\\\\\n",
       "\t Niger      & 0.05093126\\\\\n",
       "\t Spain      & 0.06777853\\\\\n",
       "\t Sri Lanka  & 0.05132069\\\\\n",
       "\t Tajikistan & 0.05079580\\\\\n",
       "\t Turkey     & 0.06776160\\\\\n",
       "\t Uganda     & 0.05092279\\\\\n",
       "\t US         & 0.06043007\\\\\n",
       "\t Zimbabwe   & 0.05152387\\\\\n",
       "\\end{tabular}\n"
      ],
      "text/markdown": [
       "\n",
       "A data.frame: 18 × 2\n",
       "\n",
       "| country &lt;fct&gt; | proportion &lt;dbl&gt; |\n",
       "|---|---|\n",
       "| Armenia    | 0.05078733 |\n",
       "| Bolivia    | 0.05079580 |\n",
       "| Bulgaria   | 0.05084660 |\n",
       "| Cambodia   | 0.05586692 |\n",
       "| Canada     | 0.06840501 |\n",
       "| Colombia   | 0.05079580 |\n",
       "| Guinea     | 0.05086353 |\n",
       "| Italy      | 0.06784626 |\n",
       "| Kenya      | 0.05079580 |\n",
       "| Kosovo     | 0.05153234 |\n",
       "| Niger      | 0.05093126 |\n",
       "| Spain      | 0.06777853 |\n",
       "| Sri Lanka  | 0.05132069 |\n",
       "| Tajikistan | 0.05079580 |\n",
       "| Turkey     | 0.06776160 |\n",
       "| Uganda     | 0.05092279 |\n",
       "| US         | 0.06043007 |\n",
       "| Zimbabwe   | 0.05152387 |\n",
       "\n"
      ],
      "text/plain": [
       "   country    proportion\n",
       "1  Armenia    0.05078733\n",
       "2  Bolivia    0.05079580\n",
       "3  Bulgaria   0.05084660\n",
       "4  Cambodia   0.05586692\n",
       "5  Canada     0.06840501\n",
       "6  Colombia   0.05079580\n",
       "7  Guinea     0.05086353\n",
       "8  Italy      0.06784626\n",
       "9  Kenya      0.05079580\n",
       "10 Kosovo     0.05153234\n",
       "11 Niger      0.05093126\n",
       "12 Spain      0.06777853\n",
       "13 Sri Lanka  0.05132069\n",
       "14 Tajikistan 0.05079580\n",
       "15 Turkey     0.06776160\n",
       "16 Uganda     0.05092279\n",
       "17 US         0.06043007\n",
       "18 Zimbabwe   0.05152387"
      ]
     },
     "metadata": {},
     "output_type": "display_data"
    }
   ],
   "source": [
    "des2$country %>% table %>% prop.table %>% data.frame %>% setNames(c(\"country\", \"proportion\"))"
   ]
  },
  {
   "cell_type": "markdown",
   "metadata": {},
   "source": [
    "# WP1219.MALE"
   ]
  },
  {
   "cell_type": "code",
   "execution_count": 27,
   "metadata": {},
   "outputs": [
    {
     "data": {
      "text/html": [
       "<table class=\"dataframe\">\n",
       "<caption>A data.frame: 2 × 2</caption>\n",
       "<thead>\n",
       "\t<tr><th scope=col>gender</th><th scope=col>proportion</th></tr>\n",
       "\t<tr><th scope=col>&lt;chr&gt;</th><th scope=col>&lt;dbl&gt;</th></tr>\n",
       "</thead>\n",
       "<tbody>\n",
       "\t<tr><td>female</td><td>0.5500085</td></tr>\n",
       "\t<tr><td>male  </td><td>0.4499915</td></tr>\n",
       "</tbody>\n",
       "</table>\n"
      ],
      "text/latex": [
       "A data.frame: 2 × 2\n",
       "\\begin{tabular}{ll}\n",
       " gender & proportion\\\\\n",
       " <chr> & <dbl>\\\\\n",
       "\\hline\n",
       "\t female & 0.5500085\\\\\n",
       "\t male   & 0.4499915\\\\\n",
       "\\end{tabular}\n"
      ],
      "text/markdown": [
       "\n",
       "A data.frame: 2 × 2\n",
       "\n",
       "| gender &lt;chr&gt; | proportion &lt;dbl&gt; |\n",
       "|---|---|\n",
       "| female | 0.5500085 |\n",
       "| male   | 0.4499915 |\n",
       "\n"
      ],
      "text/plain": [
       "  gender proportion\n",
       "1 female 0.5500085 \n",
       "2 male   0.4499915 "
      ]
     },
     "metadata": {},
     "output_type": "display_data"
    }
   ],
   "source": [
    "gender <- data.frame(MALE = c(1, 0),\n",
    "                     gender = c(\"male\", \"female\"))\n",
    "des2$WP1219.MALE %>% table %>% prop.table %>% data.frame %>% setNames(c(\"MALE\", \"proportion\")) %>%\n",
    "    merge(gender, by = \"MALE\") %>% select(gender, proportion)"
   ]
  },
  {
   "cell_type": "markdown",
   "metadata": {},
   "source": [
    "## EMP_2010"
   ]
  },
  {
   "cell_type": "code",
   "execution_count": 22,
   "metadata": {},
   "outputs": [
    {
     "data": {
      "text/html": [
       "<table class=\"dataframe\">\n",
       "<caption>A data.frame: 7 × 2</caption>\n",
       "<thead>\n",
       "\t<tr><th scope=col>employment</th><th scope=col>proportion</th></tr>\n",
       "\t<tr><th scope=col>&lt;chr&gt;</th><th scope=col>&lt;dbl&gt;</th></tr>\n",
       "</thead>\n",
       "<tbody>\n",
       "\t<tr><td>Employed full time for an employer      </td><td>0.22102100</td></tr>\n",
       "\t<tr><td>Employed full time for self             </td><td>0.14401456</td></tr>\n",
       "\t<tr><td>Employed part time do not want full time</td><td>0.07571114</td></tr>\n",
       "\t<tr><td>Unemployed                              </td><td>0.06826956</td></tr>\n",
       "\t<tr><td>Employed part time want full time       </td><td>0.08559939</td></tr>\n",
       "\t<tr><td>Out of workforce                        </td><td>0.35431764</td></tr>\n",
       "\t<tr><td>NA                                      </td><td>0.05106671</td></tr>\n",
       "</tbody>\n",
       "</table>\n"
      ],
      "text/latex": [
       "A data.frame: 7 × 2\n",
       "\\begin{tabular}{ll}\n",
       " employment & proportion\\\\\n",
       " <chr> & <dbl>\\\\\n",
       "\\hline\n",
       "\t Employed full time for an employer       & 0.22102100\\\\\n",
       "\t Employed full time for self              & 0.14401456\\\\\n",
       "\t Employed part time do not want full time & 0.07571114\\\\\n",
       "\t Unemployed                               & 0.06826956\\\\\n",
       "\t Employed part time want full time        & 0.08559939\\\\\n",
       "\t Out of workforce                         & 0.35431764\\\\\n",
       "\t NA                                       & 0.05106671\\\\\n",
       "\\end{tabular}\n"
      ],
      "text/markdown": [
       "\n",
       "A data.frame: 7 × 2\n",
       "\n",
       "| employment &lt;chr&gt; | proportion &lt;dbl&gt; |\n",
       "|---|---|\n",
       "| Employed full time for an employer       | 0.22102100 |\n",
       "| Employed full time for self              | 0.14401456 |\n",
       "| Employed part time do not want full time | 0.07571114 |\n",
       "| Unemployed                               | 0.06826956 |\n",
       "| Employed part time want full time        | 0.08559939 |\n",
       "| Out of workforce                         | 0.35431764 |\n",
       "| NA                                       | 0.05106671 |\n",
       "\n"
      ],
      "text/plain": [
       "  employment                               proportion\n",
       "1 Employed full time for an employer       0.22102100\n",
       "2 Employed full time for self              0.14401456\n",
       "3 Employed part time do not want full time 0.07571114\n",
       "4 Unemployed                               0.06826956\n",
       "5 Employed part time want full time        0.08559939\n",
       "6 Out of workforce                         0.35431764\n",
       "7 NA                                       0.05106671"
      ]
     },
     "metadata": {},
     "output_type": "display_data"
    }
   ],
   "source": [
    "employment <- data.frame(EMP_2010 = c(1, 2, 3, 4, 5, 6),\n",
    "                     employment = c(\"Employed full time for an employer\", \n",
    "                                    \"Employed full time for self\", \n",
    "                                    \"Employed part time do not want full time\", \n",
    "                                    \"Unemployed\", \n",
    "                                    \"Employed part time want full time\", \n",
    "                                    \"Out of workforce\"))\n",
    "des2$EMP_2010 %>% table(useNA = \"ifany\") %>% prop.table %>% data.frame %>% setNames(c(\"EMP_2010\", \"proportion\")) %>%\n",
    "    merge(employment, by = \"EMP_2010\", all = T) %>% select(employment, proportion)\n",
    "\n"
   ]
  },
  {
   "cell_type": "markdown",
   "metadata": {},
   "source": [
    "## WP1223.MARITAL"
   ]
  },
  {
   "cell_type": "code",
   "execution_count": 25,
   "metadata": {},
   "outputs": [
    {
     "data": {
      "text/html": [
       "<table class=\"dataframe\">\n",
       "<caption>A data.frame: 7 × 2</caption>\n",
       "<thead>\n",
       "\t<tr><th scope=col>marital</th><th scope=col>proportion</th></tr>\n",
       "\t<tr><th scope=col>&lt;chr&gt;</th><th scope=col>&lt;dbl&gt;</th></tr>\n",
       "</thead>\n",
       "<tbody>\n",
       "\t<tr><td>Single/Never been married</td><td>0.276430748</td></tr>\n",
       "\t<tr><td>Married                  </td><td>0.554757873</td></tr>\n",
       "\t<tr><td>Separated                </td><td>0.025025398</td></tr>\n",
       "\t<tr><td>Divorced                 </td><td>0.030570606</td></tr>\n",
       "\t<tr><td>Widowed                  </td><td>0.070682357</td></tr>\n",
       "\t<tr><td>Domestic partner         </td><td>0.036225872</td></tr>\n",
       "\t<tr><td>NA                       </td><td>0.006307145</td></tr>\n",
       "</tbody>\n",
       "</table>\n"
      ],
      "text/latex": [
       "A data.frame: 7 × 2\n",
       "\\begin{tabular}{ll}\n",
       " marital & proportion\\\\\n",
       " <chr> & <dbl>\\\\\n",
       "\\hline\n",
       "\t Single/Never been married & 0.276430748\\\\\n",
       "\t Married                   & 0.554757873\\\\\n",
       "\t Separated                 & 0.025025398\\\\\n",
       "\t Divorced                  & 0.030570606\\\\\n",
       "\t Widowed                   & 0.070682357\\\\\n",
       "\t Domestic partner          & 0.036225872\\\\\n",
       "\t NA                        & 0.006307145\\\\\n",
       "\\end{tabular}\n"
      ],
      "text/markdown": [
       "\n",
       "A data.frame: 7 × 2\n",
       "\n",
       "| marital &lt;chr&gt; | proportion &lt;dbl&gt; |\n",
       "|---|---|\n",
       "| Single/Never been married | 0.276430748 |\n",
       "| Married                   | 0.554757873 |\n",
       "| Separated                 | 0.025025398 |\n",
       "| Divorced                  | 0.030570606 |\n",
       "| Widowed                   | 0.070682357 |\n",
       "| Domestic partner          | 0.036225872 |\n",
       "| NA                        | 0.006307145 |\n",
       "\n"
      ],
      "text/plain": [
       "  marital                   proportion \n",
       "1 Single/Never been married 0.276430748\n",
       "2 Married                   0.554757873\n",
       "3 Separated                 0.025025398\n",
       "4 Divorced                  0.030570606\n",
       "5 Widowed                   0.070682357\n",
       "6 Domestic partner          0.036225872\n",
       "7 NA                        0.006307145"
      ]
     },
     "metadata": {},
     "output_type": "display_data"
    }
   ],
   "source": [
    "marital <- data.frame(MARITAL = c(1, 2, 3, 4, 5, 8),\n",
    "                     marital = c(\"Single/Never been married\", \n",
    "                                 \"Married\", \n",
    "                                 \"Separated\", \n",
    "                                 \"Divorced\", \n",
    "                                 \"Widowed\", \n",
    "                                 \"Domestic partner\"))\n",
    "des2$WP1223.MARITAL %>% table(useNA = \"ifany\") %>% prop.table %>% data.frame %>% setNames(c(\"MARITAL\", \"proportion\")) %>%\n",
    "    merge(marital, by = \"MARITAL\", all = T) %>% select(marital, proportion)\n"
   ]
  }
 ],
 "metadata": {
  "kernelspec": {
   "display_name": "R 4.0.3",
   "language": "R",
   "name": "ir403"
  },
  "language_info": {
   "codemirror_mode": "r",
   "file_extension": ".r",
   "mimetype": "text/x-r-source",
   "name": "R",
   "pygments_lexer": "r",
   "version": "4.0.3"
  }
 },
 "nbformat": 4,
 "nbformat_minor": 4
}
