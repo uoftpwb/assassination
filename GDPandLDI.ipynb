{
 "cells": [
  {
   "cell_type": "markdown",
   "metadata": {},
   "source": [
    "Install the useful packages."
   ]
  },
  {
   "cell_type": "code",
   "execution_count": 1,
   "metadata": {
    "collapsed": true,
    "jupyter": {
     "outputs_hidden": true
    }
   },
   "outputs": [
    {
     "data": {
      "text/html": [
       "<ol>\n",
       "\t<li><style>\n",
       ".list-inline {list-style: none; margin:0; padding: 0}\n",
       ".list-inline>li {display: inline-block}\n",
       ".list-inline>li:not(:last-child)::after {content: \"\\00b7\"; padding: 0 .5ex}\n",
       "</style>\n",
       "<ol class=list-inline><li>'easypackages'</li><li>'stats'</li><li>'graphics'</li><li>'grDevices'</li><li>'utils'</li><li>'datasets'</li><li>'methods'</li><li>'base'</li></ol>\n",
       "</li>\n",
       "</ol>\n"
      ],
      "text/latex": [
       "\\begin{enumerate}\n",
       "\\item \\begin{enumerate*}\n",
       "\\item 'easypackages'\n",
       "\\item 'stats'\n",
       "\\item 'graphics'\n",
       "\\item 'grDevices'\n",
       "\\item 'utils'\n",
       "\\item 'datasets'\n",
       "\\item 'methods'\n",
       "\\item 'base'\n",
       "\\end{enumerate*}\n",
       "\n",
       "\\end{enumerate}\n"
      ],
      "text/markdown": [
       "1. 1. 'easypackages'\n",
       "2. 'stats'\n",
       "3. 'graphics'\n",
       "4. 'grDevices'\n",
       "5. 'utils'\n",
       "6. 'datasets'\n",
       "7. 'methods'\n",
       "8. 'base'\n",
       "\n",
       "\n",
       "\n",
       "\n",
       "\n"
      ],
      "text/plain": [
       "[[1]]\n",
       "[1] \"easypackages\" \"stats\"        \"graphics\"     \"grDevices\"    \"utils\"       \n",
       "[6] \"datasets\"     \"methods\"      \"base\"        \n"
      ]
     },
     "metadata": {},
     "output_type": "display_data"
    },
    {
     "name": "stderr",
     "output_type": "stream",
     "text": [
      "Loading required package: dplyr\n",
      "\n",
      "\n",
      "Attaching package: ‘dplyr’\n",
      "\n",
      "\n",
      "The following objects are masked from ‘package:stats’:\n",
      "\n",
      "    filter, lag\n",
      "\n",
      "\n",
      "The following objects are masked from ‘package:base’:\n",
      "\n",
      "    intersect, setdiff, setequal, union\n",
      "\n",
      "\n",
      "Loading required package: tidyr\n",
      "\n",
      "All packages loaded successfully\n",
      "\n"
     ]
    }
   ],
   "source": [
    "myPackages <- c(\"easypackages\")\n",
    "#the argument `lib.loc = \"~/rlib\"` is used because the packages were installed in this folder in my case\n",
    "lapply(myPackages, library, lib.loc = \"~/rlib\", character.only = TRUE) \n",
    "libraries(\"dplyr\", \"tidyr\")"
   ]
  },
  {
   "cell_type": "markdown",
   "metadata": {},
   "source": [
    "Import the GDP PPP per capita (from https://data.worldbank.org/indicator/NY.GDP.PCAP.PP.CD) and democracy (the liberal democracy index from v-dem) data.\n",
    "\n",
    "For the liberal democracy index,\n",
    "- v2x_libdem: To what extent is the ideal of liberal democracy achieved\n",
    "    - Scale: Interval, from low to high (0-1)\n",
    "\n",
    "\n",
    "\n"
   ]
  },
  {
   "cell_type": "code",
   "execution_count": 2,
   "metadata": {},
   "outputs": [
    {
     "data": {
      "text/html": [
       "<table class=\"dataframe\">\n",
       "<caption>A data.frame: 6 × 67</caption>\n",
       "<thead>\n",
       "\t<tr><th></th><th scope=col>Country Name</th><th scope=col>Country Code</th><th scope=col>Indicator Name</th><th scope=col>Indicator Code</th><th scope=col>1960</th><th scope=col>1961</th><th scope=col>1962</th><th scope=col>1963</th><th scope=col>1964</th><th scope=col>1965</th><th scope=col>⋯</th><th scope=col>2013</th><th scope=col>2014</th><th scope=col>2015</th><th scope=col>2016</th><th scope=col>2017</th><th scope=col>2018</th><th scope=col>2019</th><th scope=col>2020</th><th scope=col>2021</th><th scope=col>V67</th></tr>\n",
       "\t<tr><th></th><th scope=col>&lt;chr&gt;</th><th scope=col>&lt;chr&gt;</th><th scope=col>&lt;chr&gt;</th><th scope=col>&lt;chr&gt;</th><th scope=col>&lt;lgl&gt;</th><th scope=col>&lt;lgl&gt;</th><th scope=col>&lt;lgl&gt;</th><th scope=col>&lt;lgl&gt;</th><th scope=col>&lt;lgl&gt;</th><th scope=col>&lt;lgl&gt;</th><th scope=col>⋯</th><th scope=col>&lt;dbl&gt;</th><th scope=col>&lt;dbl&gt;</th><th scope=col>&lt;dbl&gt;</th><th scope=col>&lt;dbl&gt;</th><th scope=col>&lt;dbl&gt;</th><th scope=col>&lt;dbl&gt;</th><th scope=col>&lt;dbl&gt;</th><th scope=col>&lt;dbl&gt;</th><th scope=col>&lt;dbl&gt;</th><th scope=col>&lt;lgl&gt;</th></tr>\n",
       "</thead>\n",
       "<tbody>\n",
       "\t<tr><th scope=row>1</th><td>Aruba                      </td><td>ABW</td><td>GDP per capita, PPP (current international $)</td><td>NY.GDP.PCAP.PP.CD</td><td>NA</td><td>NA</td><td>NA</td><td>NA</td><td>NA</td><td>NA</td><td>⋯</td><td>36830.157</td><td>36782.227</td><td>37314.564</td><td>37587.066</td><td>38893.961</td><td>40143.000</td><td>39834.224</td><td>31182.834</td><td>       NA</td><td>NA</td></tr>\n",
       "\t<tr><th scope=row>2</th><td>Africa Eastern and Southern</td><td>AFE</td><td>GDP per capita, PPP (current international $)</td><td>NY.GDP.PCAP.PP.CD</td><td>NA</td><td>NA</td><td>NA</td><td>NA</td><td>NA</td><td>NA</td><td>⋯</td><td> 3365.684</td><td> 3503.827</td><td> 3533.337</td><td> 3627.474</td><td> 3702.515</td><td> 3794.095</td><td> 3845.619</td><td> 3687.728</td><td> 3912.177</td><td>NA</td></tr>\n",
       "\t<tr><th scope=row>3</th><td>Afghanistan                </td><td>AFG</td><td>GDP per capita, PPP (current international $)</td><td>NY.GDP.PCAP.PP.CD</td><td>NA</td><td>NA</td><td>NA</td><td>NA</td><td>NA</td><td>NA</td><td>⋯</td><td> 2015.515</td><td> 2069.424</td><td> 2087.305</td><td> 1981.118</td><td> 2058.400</td><td> 2082.392</td><td> 2152.190</td><td> 2078.479</td><td>       NA</td><td>NA</td></tr>\n",
       "\t<tr><th scope=row>4</th><td>Africa Western and Central </td><td>AFW</td><td>GDP per capita, PPP (current international $)</td><td>NY.GDP.PCAP.PP.CD</td><td>NA</td><td>NA</td><td>NA</td><td>NA</td><td>NA</td><td>NA</td><td>⋯</td><td> 4013.197</td><td> 4208.732</td><td> 4139.323</td><td> 4069.006</td><td> 4115.645</td><td> 4231.321</td><td> 4335.409</td><td> 4241.522</td><td> 4474.971</td><td>NA</td></tr>\n",
       "\t<tr><th scope=row>5</th><td>Angola                     </td><td>AGO</td><td>GDP per capita, PPP (current international $)</td><td>NY.GDP.PCAP.PP.CD</td><td>NA</td><td>NA</td><td>NA</td><td>NA</td><td>NA</td><td>NA</td><td>⋯</td><td> 7682.476</td><td> 8179.298</td><td> 7337.570</td><td> 7103.226</td><td> 7310.897</td><td> 7148.933</td><td> 6995.300</td><td> 6478.332</td><td> 6581.042</td><td>NA</td></tr>\n",
       "\t<tr><th scope=row>6</th><td>Albania                    </td><td>ALB</td><td>GDP per capita, PPP (current international $)</td><td>NY.GDP.PCAP.PP.CD</td><td>NA</td><td>NA</td><td>NA</td><td>NA</td><td>NA</td><td>NA</td><td>⋯</td><td>10570.964</td><td>11259.268</td><td>11658.906</td><td>12078.843</td><td>12770.964</td><td>13498.138</td><td>13999.424</td><td>13632.187</td><td>15646.042</td><td>NA</td></tr>\n",
       "</tbody>\n",
       "</table>\n"
      ],
      "text/latex": [
       "A data.frame: 6 × 67\n",
       "\\begin{tabular}{r|lllllllllllllllllllll}\n",
       "  & Country Name & Country Code & Indicator Name & Indicator Code & 1960 & 1961 & 1962 & 1963 & 1964 & 1965 & ⋯ & 2013 & 2014 & 2015 & 2016 & 2017 & 2018 & 2019 & 2020 & 2021 & V67\\\\\n",
       "  & <chr> & <chr> & <chr> & <chr> & <lgl> & <lgl> & <lgl> & <lgl> & <lgl> & <lgl> & ⋯ & <dbl> & <dbl> & <dbl> & <dbl> & <dbl> & <dbl> & <dbl> & <dbl> & <dbl> & <lgl>\\\\\n",
       "\\hline\n",
       "\t1 & Aruba                       & ABW & GDP per capita, PPP (current international \\$) & NY.GDP.PCAP.PP.CD & NA & NA & NA & NA & NA & NA & ⋯ & 36830.157 & 36782.227 & 37314.564 & 37587.066 & 38893.961 & 40143.000 & 39834.224 & 31182.834 &        NA & NA\\\\\n",
       "\t2 & Africa Eastern and Southern & AFE & GDP per capita, PPP (current international \\$) & NY.GDP.PCAP.PP.CD & NA & NA & NA & NA & NA & NA & ⋯ &  3365.684 &  3503.827 &  3533.337 &  3627.474 &  3702.515 &  3794.095 &  3845.619 &  3687.728 &  3912.177 & NA\\\\\n",
       "\t3 & Afghanistan                 & AFG & GDP per capita, PPP (current international \\$) & NY.GDP.PCAP.PP.CD & NA & NA & NA & NA & NA & NA & ⋯ &  2015.515 &  2069.424 &  2087.305 &  1981.118 &  2058.400 &  2082.392 &  2152.190 &  2078.479 &        NA & NA\\\\\n",
       "\t4 & Africa Western and Central  & AFW & GDP per capita, PPP (current international \\$) & NY.GDP.PCAP.PP.CD & NA & NA & NA & NA & NA & NA & ⋯ &  4013.197 &  4208.732 &  4139.323 &  4069.006 &  4115.645 &  4231.321 &  4335.409 &  4241.522 &  4474.971 & NA\\\\\n",
       "\t5 & Angola                      & AGO & GDP per capita, PPP (current international \\$) & NY.GDP.PCAP.PP.CD & NA & NA & NA & NA & NA & NA & ⋯ &  7682.476 &  8179.298 &  7337.570 &  7103.226 &  7310.897 &  7148.933 &  6995.300 &  6478.332 &  6581.042 & NA\\\\\n",
       "\t6 & Albania                     & ALB & GDP per capita, PPP (current international \\$) & NY.GDP.PCAP.PP.CD & NA & NA & NA & NA & NA & NA & ⋯ & 10570.964 & 11259.268 & 11658.906 & 12078.843 & 12770.964 & 13498.138 & 13999.424 & 13632.187 & 15646.042 & NA\\\\\n",
       "\\end{tabular}\n"
      ],
      "text/markdown": [
       "\n",
       "A data.frame: 6 × 67\n",
       "\n",
       "| <!--/--> | Country Name &lt;chr&gt; | Country Code &lt;chr&gt; | Indicator Name &lt;chr&gt; | Indicator Code &lt;chr&gt; | 1960 &lt;lgl&gt; | 1961 &lt;lgl&gt; | 1962 &lt;lgl&gt; | 1963 &lt;lgl&gt; | 1964 &lt;lgl&gt; | 1965 &lt;lgl&gt; | ⋯ ⋯ | 2013 &lt;dbl&gt; | 2014 &lt;dbl&gt; | 2015 &lt;dbl&gt; | 2016 &lt;dbl&gt; | 2017 &lt;dbl&gt; | 2018 &lt;dbl&gt; | 2019 &lt;dbl&gt; | 2020 &lt;dbl&gt; | 2021 &lt;dbl&gt; | V67 &lt;lgl&gt; |\n",
       "|---|---|---|---|---|---|---|---|---|---|---|---|---|---|---|---|---|---|---|---|---|---|\n",
       "| 1 | Aruba                       | ABW | GDP per capita, PPP (current international $) | NY.GDP.PCAP.PP.CD | NA | NA | NA | NA | NA | NA | ⋯ | 36830.157 | 36782.227 | 37314.564 | 37587.066 | 38893.961 | 40143.000 | 39834.224 | 31182.834 |        NA | NA |\n",
       "| 2 | Africa Eastern and Southern | AFE | GDP per capita, PPP (current international $) | NY.GDP.PCAP.PP.CD | NA | NA | NA | NA | NA | NA | ⋯ |  3365.684 |  3503.827 |  3533.337 |  3627.474 |  3702.515 |  3794.095 |  3845.619 |  3687.728 |  3912.177 | NA |\n",
       "| 3 | Afghanistan                 | AFG | GDP per capita, PPP (current international $) | NY.GDP.PCAP.PP.CD | NA | NA | NA | NA | NA | NA | ⋯ |  2015.515 |  2069.424 |  2087.305 |  1981.118 |  2058.400 |  2082.392 |  2152.190 |  2078.479 |        NA | NA |\n",
       "| 4 | Africa Western and Central  | AFW | GDP per capita, PPP (current international $) | NY.GDP.PCAP.PP.CD | NA | NA | NA | NA | NA | NA | ⋯ |  4013.197 |  4208.732 |  4139.323 |  4069.006 |  4115.645 |  4231.321 |  4335.409 |  4241.522 |  4474.971 | NA |\n",
       "| 5 | Angola                      | AGO | GDP per capita, PPP (current international $) | NY.GDP.PCAP.PP.CD | NA | NA | NA | NA | NA | NA | ⋯ |  7682.476 |  8179.298 |  7337.570 |  7103.226 |  7310.897 |  7148.933 |  6995.300 |  6478.332 |  6581.042 | NA |\n",
       "| 6 | Albania                     | ALB | GDP per capita, PPP (current international $) | NY.GDP.PCAP.PP.CD | NA | NA | NA | NA | NA | NA | ⋯ | 10570.964 | 11259.268 | 11658.906 | 12078.843 | 12770.964 | 13498.138 | 13999.424 | 13632.187 | 15646.042 | NA |\n",
       "\n"
      ],
      "text/plain": [
       "  Country Name                Country Code\n",
       "1 Aruba                       ABW         \n",
       "2 Africa Eastern and Southern AFE         \n",
       "3 Afghanistan                 AFG         \n",
       "4 Africa Western and Central  AFW         \n",
       "5 Angola                      AGO         \n",
       "6 Albania                     ALB         \n",
       "  Indicator Name                                Indicator Code    1960 1961\n",
       "1 GDP per capita, PPP (current international $) NY.GDP.PCAP.PP.CD NA   NA  \n",
       "2 GDP per capita, PPP (current international $) NY.GDP.PCAP.PP.CD NA   NA  \n",
       "3 GDP per capita, PPP (current international $) NY.GDP.PCAP.PP.CD NA   NA  \n",
       "4 GDP per capita, PPP (current international $) NY.GDP.PCAP.PP.CD NA   NA  \n",
       "5 GDP per capita, PPP (current international $) NY.GDP.PCAP.PP.CD NA   NA  \n",
       "6 GDP per capita, PPP (current international $) NY.GDP.PCAP.PP.CD NA   NA  \n",
       "  1962 1963 1964 1965 ⋯ 2013      2014      2015      2016      2017     \n",
       "1 NA   NA   NA   NA   ⋯ 36830.157 36782.227 37314.564 37587.066 38893.961\n",
       "2 NA   NA   NA   NA   ⋯  3365.684  3503.827  3533.337  3627.474  3702.515\n",
       "3 NA   NA   NA   NA   ⋯  2015.515  2069.424  2087.305  1981.118  2058.400\n",
       "4 NA   NA   NA   NA   ⋯  4013.197  4208.732  4139.323  4069.006  4115.645\n",
       "5 NA   NA   NA   NA   ⋯  7682.476  8179.298  7337.570  7103.226  7310.897\n",
       "6 NA   NA   NA   NA   ⋯ 10570.964 11259.268 11658.906 12078.843 12770.964\n",
       "  2018      2019      2020      2021      V67\n",
       "1 40143.000 39834.224 31182.834        NA NA \n",
       "2  3794.095  3845.619  3687.728  3912.177 NA \n",
       "3  2082.392  2152.190  2078.479        NA NA \n",
       "4  4231.321  4335.409  4241.522  4474.971 NA \n",
       "5  7148.933  6995.300  6478.332  6581.042 NA \n",
       "6 13498.138 13999.424 13632.187 15646.042 NA "
      ]
     },
     "metadata": {},
     "output_type": "display_data"
    }
   ],
   "source": [
    "GDPraw <- rio::import(\"API_NY.GDP.PCAP.PP.CD_DS2_en_csv_v2_4250814.csv\", skip = 4, header = T)\n",
    "head(GDPraw)"
   ]
  },
  {
   "cell_type": "code",
   "execution_count": 40,
   "metadata": {},
   "outputs": [
    {
     "data": {
      "text/html": [
       "<table class=\"dataframe\">\n",
       "<caption>A data.frame: 6 × 7</caption>\n",
       "<thead>\n",
       "\t<tr><th></th><th scope=col>country_name</th><th scope=col>country_text_id</th><th scope=col>year</th><th scope=col>v2x_libdem</th><th scope=col>v2x_libdem_codelow</th><th scope=col>v2x_libdem_codehigh</th><th scope=col>v2x_libdem_sd</th></tr>\n",
       "\t<tr><th></th><th scope=col>&lt;chr&gt;</th><th scope=col>&lt;chr&gt;</th><th scope=col>&lt;int&gt;</th><th scope=col>&lt;dbl&gt;</th><th scope=col>&lt;dbl&gt;</th><th scope=col>&lt;dbl&gt;</th><th scope=col>&lt;dbl&gt;</th></tr>\n",
       "</thead>\n",
       "<tbody>\n",
       "\t<tr><th scope=row>1</th><td>Mexico</td><td>MEX</td><td>1789</td><td>0.04</td><td>0.027</td><td>0.053</td><td>0.014</td></tr>\n",
       "\t<tr><th scope=row>2</th><td>Mexico</td><td>MEX</td><td>1790</td><td>0.04</td><td>0.027</td><td>0.053</td><td>0.014</td></tr>\n",
       "\t<tr><th scope=row>3</th><td>Mexico</td><td>MEX</td><td>1791</td><td>0.04</td><td>0.027</td><td>0.053</td><td>0.014</td></tr>\n",
       "\t<tr><th scope=row>4</th><td>Mexico</td><td>MEX</td><td>1792</td><td>0.04</td><td>0.027</td><td>0.053</td><td>0.014</td></tr>\n",
       "\t<tr><th scope=row>5</th><td>Mexico</td><td>MEX</td><td>1793</td><td>0.04</td><td>0.027</td><td>0.053</td><td>0.014</td></tr>\n",
       "\t<tr><th scope=row>6</th><td>Mexico</td><td>MEX</td><td>1794</td><td>0.04</td><td>0.027</td><td>0.053</td><td>0.014</td></tr>\n",
       "</tbody>\n",
       "</table>\n"
      ],
      "text/latex": [
       "A data.frame: 6 × 7\n",
       "\\begin{tabular}{r|lllllll}\n",
       "  & country\\_name & country\\_text\\_id & year & v2x\\_libdem & v2x\\_libdem\\_codelow & v2x\\_libdem\\_codehigh & v2x\\_libdem\\_sd\\\\\n",
       "  & <chr> & <chr> & <int> & <dbl> & <dbl> & <dbl> & <dbl>\\\\\n",
       "\\hline\n",
       "\t1 & Mexico & MEX & 1789 & 0.04 & 0.027 & 0.053 & 0.014\\\\\n",
       "\t2 & Mexico & MEX & 1790 & 0.04 & 0.027 & 0.053 & 0.014\\\\\n",
       "\t3 & Mexico & MEX & 1791 & 0.04 & 0.027 & 0.053 & 0.014\\\\\n",
       "\t4 & Mexico & MEX & 1792 & 0.04 & 0.027 & 0.053 & 0.014\\\\\n",
       "\t5 & Mexico & MEX & 1793 & 0.04 & 0.027 & 0.053 & 0.014\\\\\n",
       "\t6 & Mexico & MEX & 1794 & 0.04 & 0.027 & 0.053 & 0.014\\\\\n",
       "\\end{tabular}\n"
      ],
      "text/markdown": [
       "\n",
       "A data.frame: 6 × 7\n",
       "\n",
       "| <!--/--> | country_name &lt;chr&gt; | country_text_id &lt;chr&gt; | year &lt;int&gt; | v2x_libdem &lt;dbl&gt; | v2x_libdem_codelow &lt;dbl&gt; | v2x_libdem_codehigh &lt;dbl&gt; | v2x_libdem_sd &lt;dbl&gt; |\n",
       "|---|---|---|---|---|---|---|---|\n",
       "| 1 | Mexico | MEX | 1789 | 0.04 | 0.027 | 0.053 | 0.014 |\n",
       "| 2 | Mexico | MEX | 1790 | 0.04 | 0.027 | 0.053 | 0.014 |\n",
       "| 3 | Mexico | MEX | 1791 | 0.04 | 0.027 | 0.053 | 0.014 |\n",
       "| 4 | Mexico | MEX | 1792 | 0.04 | 0.027 | 0.053 | 0.014 |\n",
       "| 5 | Mexico | MEX | 1793 | 0.04 | 0.027 | 0.053 | 0.014 |\n",
       "| 6 | Mexico | MEX | 1794 | 0.04 | 0.027 | 0.053 | 0.014 |\n",
       "\n"
      ],
      "text/plain": [
       "  country_name country_text_id year v2x_libdem v2x_libdem_codelow\n",
       "1 Mexico       MEX             1789 0.04       0.027             \n",
       "2 Mexico       MEX             1790 0.04       0.027             \n",
       "3 Mexico       MEX             1791 0.04       0.027             \n",
       "4 Mexico       MEX             1792 0.04       0.027             \n",
       "5 Mexico       MEX             1793 0.04       0.027             \n",
       "6 Mexico       MEX             1794 0.04       0.027             \n",
       "  v2x_libdem_codehigh v2x_libdem_sd\n",
       "1 0.053               0.014        \n",
       "2 0.053               0.014        \n",
       "3 0.053               0.014        \n",
       "4 0.053               0.014        \n",
       "5 0.053               0.014        \n",
       "6 0.053               0.014        "
      ]
     },
     "metadata": {},
     "output_type": "display_data"
    }
   ],
   "source": [
    "LDIraw <- rio::import(\"V-Dem-CY-Core-v12.csv\", \n",
    "                      select = c(\"country_name\", \"country_text_id\", \"year\",\n",
    "                                \"v2x_libdem\", \"v2x_libdem_codelow\", \"v2x_libdem_codehigh\", \"v2x_libdem_sd\"))\n",
    "head(LDIraw)"
   ]
  },
  {
   "cell_type": "markdown",
   "metadata": {},
   "source": [
    "1. Convert GDP data from wide to long format.\n",
    "\n",
    "2. Drop the rows with `NA` in `GDPperCapPPP`.\n",
    "\n",
    "3. Filter away the data earlier than 2005 as Gallup data start from 2005.\n",
    "\n",
    "4. Change the year in GDP data to numeric."
   ]
  },
  {
   "cell_type": "code",
   "execution_count": 55,
   "metadata": {},
   "outputs": [
    {
     "data": {
      "text/html": [
       "<table class=\"dataframe\">\n",
       "<caption>A data.frame: 6 × 4</caption>\n",
       "<thead>\n",
       "\t<tr><th></th><th scope=col>Country Name</th><th scope=col>Country Code</th><th scope=col>Year</th><th scope=col>GDPperCapPPP</th></tr>\n",
       "\t<tr><th></th><th scope=col>&lt;chr&gt;</th><th scope=col>&lt;chr&gt;</th><th scope=col>&lt;int&gt;</th><th scope=col>&lt;dbl&gt;</th></tr>\n",
       "</thead>\n",
       "<tbody>\n",
       "\t<tr><th scope=row>1</th><td>Aruba</td><td>ABW</td><td>2005</td><td>34254.14</td></tr>\n",
       "\t<tr><th scope=row>2</th><td>Aruba</td><td>ABW</td><td>2006</td><td>35429.17</td></tr>\n",
       "\t<tr><th scope=row>3</th><td>Aruba</td><td>ABW</td><td>2007</td><td>37366.69</td></tr>\n",
       "\t<tr><th scope=row>4</th><td>Aruba</td><td>ABW</td><td>2008</td><td>38729.56</td></tr>\n",
       "\t<tr><th scope=row>5</th><td>Aruba</td><td>ABW</td><td>2009</td><td>34393.26</td></tr>\n",
       "\t<tr><th scope=row>6</th><td>Aruba</td><td>ABW</td><td>2010</td><td>33784.54</td></tr>\n",
       "</tbody>\n",
       "</table>\n"
      ],
      "text/latex": [
       "A data.frame: 6 × 4\n",
       "\\begin{tabular}{r|llll}\n",
       "  & Country Name & Country Code & Year & GDPperCapPPP\\\\\n",
       "  & <chr> & <chr> & <int> & <dbl>\\\\\n",
       "\\hline\n",
       "\t1 & Aruba & ABW & 2005 & 34254.14\\\\\n",
       "\t2 & Aruba & ABW & 2006 & 35429.17\\\\\n",
       "\t3 & Aruba & ABW & 2007 & 37366.69\\\\\n",
       "\t4 & Aruba & ABW & 2008 & 38729.56\\\\\n",
       "\t5 & Aruba & ABW & 2009 & 34393.26\\\\\n",
       "\t6 & Aruba & ABW & 2010 & 33784.54\\\\\n",
       "\\end{tabular}\n"
      ],
      "text/markdown": [
       "\n",
       "A data.frame: 6 × 4\n",
       "\n",
       "| <!--/--> | Country Name &lt;chr&gt; | Country Code &lt;chr&gt; | Year &lt;int&gt; | GDPperCapPPP &lt;dbl&gt; |\n",
       "|---|---|---|---|---|\n",
       "| 1 | Aruba | ABW | 2005 | 34254.14 |\n",
       "| 2 | Aruba | ABW | 2006 | 35429.17 |\n",
       "| 3 | Aruba | ABW | 2007 | 37366.69 |\n",
       "| 4 | Aruba | ABW | 2008 | 38729.56 |\n",
       "| 5 | Aruba | ABW | 2009 | 34393.26 |\n",
       "| 6 | Aruba | ABW | 2010 | 33784.54 |\n",
       "\n"
      ],
      "text/plain": [
       "  Country Name Country Code Year GDPperCapPPP\n",
       "1 Aruba        ABW          2005 34254.14    \n",
       "2 Aruba        ABW          2006 35429.17    \n",
       "3 Aruba        ABW          2007 37366.69    \n",
       "4 Aruba        ABW          2008 38729.56    \n",
       "5 Aruba        ABW          2009 34393.26    \n",
       "6 Aruba        ABW          2010 33784.54    "
      ]
     },
     "metadata": {},
     "output_type": "display_data"
    }
   ],
   "source": [
    "GDPbase <- GDPraw %>% select(- `Indicator Name`, - `Indicator Code`, - V67)\n",
    "GDPbase <- tidyr::pivot_longer(data = GDPbase, cols = `1960`:`2021`, names_to = \"Year\", values_to = \"GDPperCapPPP\")\n",
    "GDPbase <- GDPbase %>% drop_na %>% filter(Year >= 2005)  %>% as.data.frame\n",
    "GDPbase <- GDPbase %>% mutate(Year = as.integer(Year))\n",
    "head(GDPbase)\n",
    "\n",
    "LDIbase <- LDIraw %>% filter(year >= 2005)"
   ]
  },
  {
   "cell_type": "markdown",
   "metadata": {},
   "source": [
    "Before merging, we need to check whether the two datasets has the same country names.\n",
    "\n",
    "If the names are different for the same country, we will use the name in the GDP data."
   ]
  },
  {
   "cell_type": "code",
   "execution_count": 56,
   "metadata": {},
   "outputs": [
    {
     "data": {
      "text/html": [
       "<style>\n",
       ".list-inline {list-style: none; margin:0; padding: 0}\n",
       ".list-inline>li {display: inline-block}\n",
       ".list-inline>li:not(:last-child)::after {content: \"\\00b7\"; padding: 0 .5ex}\n",
       "</style>\n",
       "<ol class=list-inline><li>'Burma/Myanmar'</li><li>'Cape Verde'</li><li>'Cuba'</li><li>'Democratic Republic of the Congo'</li><li>'Egypt'</li><li>'Hong Kong'</li><li>'Iran'</li><li>'Ivory Coast'</li><li>'Kyrgyzstan'</li><li>'Laos'</li><li>'North Korea'</li><li>'Palestine/Gaza'</li><li>'Palestine/West Bank'</li><li>'Republic of the Congo'</li><li>'Russia'</li><li>'Slovakia'</li><li>'Somaliland'</li><li>'South Korea'</li><li>'Syria'</li><li>'Taiwan'</li><li>'The Gambia'</li><li>'Turkey'</li><li>'United States of America'</li><li>'Venezuela'</li><li>'Yemen'</li><li>'Zanzibar'</li></ol>\n"
      ],
      "text/latex": [
       "\\begin{enumerate*}\n",
       "\\item 'Burma/Myanmar'\n",
       "\\item 'Cape Verde'\n",
       "\\item 'Cuba'\n",
       "\\item 'Democratic Republic of the Congo'\n",
       "\\item 'Egypt'\n",
       "\\item 'Hong Kong'\n",
       "\\item 'Iran'\n",
       "\\item 'Ivory Coast'\n",
       "\\item 'Kyrgyzstan'\n",
       "\\item 'Laos'\n",
       "\\item 'North Korea'\n",
       "\\item 'Palestine/Gaza'\n",
       "\\item 'Palestine/West Bank'\n",
       "\\item 'Republic of the Congo'\n",
       "\\item 'Russia'\n",
       "\\item 'Slovakia'\n",
       "\\item 'Somaliland'\n",
       "\\item 'South Korea'\n",
       "\\item 'Syria'\n",
       "\\item 'Taiwan'\n",
       "\\item 'The Gambia'\n",
       "\\item 'Turkey'\n",
       "\\item 'United States of America'\n",
       "\\item 'Venezuela'\n",
       "\\item 'Yemen'\n",
       "\\item 'Zanzibar'\n",
       "\\end{enumerate*}\n"
      ],
      "text/markdown": [
       "1. 'Burma/Myanmar'\n",
       "2. 'Cape Verde'\n",
       "3. 'Cuba'\n",
       "4. 'Democratic Republic of the Congo'\n",
       "5. 'Egypt'\n",
       "6. 'Hong Kong'\n",
       "7. 'Iran'\n",
       "8. 'Ivory Coast'\n",
       "9. 'Kyrgyzstan'\n",
       "10. 'Laos'\n",
       "11. 'North Korea'\n",
       "12. 'Palestine/Gaza'\n",
       "13. 'Palestine/West Bank'\n",
       "14. 'Republic of the Congo'\n",
       "15. 'Russia'\n",
       "16. 'Slovakia'\n",
       "17. 'Somaliland'\n",
       "18. 'South Korea'\n",
       "19. 'Syria'\n",
       "20. 'Taiwan'\n",
       "21. 'The Gambia'\n",
       "22. 'Turkey'\n",
       "23. 'United States of America'\n",
       "24. 'Venezuela'\n",
       "25. 'Yemen'\n",
       "26. 'Zanzibar'\n",
       "\n",
       "\n"
      ],
      "text/plain": [
       " [1] \"Burma/Myanmar\"                    \"Cape Verde\"                      \n",
       " [3] \"Cuba\"                             \"Democratic Republic of the Congo\"\n",
       " [5] \"Egypt\"                            \"Hong Kong\"                       \n",
       " [7] \"Iran\"                             \"Ivory Coast\"                     \n",
       " [9] \"Kyrgyzstan\"                       \"Laos\"                            \n",
       "[11] \"North Korea\"                      \"Palestine/Gaza\"                  \n",
       "[13] \"Palestine/West Bank\"              \"Republic of the Congo\"           \n",
       "[15] \"Russia\"                           \"Slovakia\"                        \n",
       "[17] \"Somaliland\"                       \"South Korea\"                     \n",
       "[19] \"Syria\"                            \"Taiwan\"                          \n",
       "[21] \"The Gambia\"                       \"Turkey\"                          \n",
       "[23] \"United States of America\"         \"Venezuela\"                       \n",
       "[25] \"Yemen\"                            \"Zanzibar\"                        "
      ]
     },
     "metadata": {},
     "output_type": "display_data"
    }
   ],
   "source": [
    "LDIbase[! LDIbase$`country_name` %in% GDPbase$`Country Name`, \"country_name\"] %>% unique %>% sort"
   ]
  },
  {
   "cell_type": "code",
   "execution_count": 57,
   "metadata": {},
   "outputs": [
    {
     "data": {
      "text/html": [
       "<style>\n",
       ".list-inline {list-style: none; margin:0; padding: 0}\n",
       ".list-inline>li {display: inline-block}\n",
       ".list-inline>li:not(:last-child)::after {content: \"\\00b7\"; padding: 0 .5ex}\n",
       "</style>\n",
       "<ol class=list-inline><li>'Antigua and Barbuda'</li><li>'Aruba'</li><li>'Bahamas, The'</li><li>'Belize'</li><li>'Bermuda'</li><li>'Brunei Darussalam'</li><li>'Cabo Verde'</li><li>'Caribbean small states'</li><li>'Cayman Islands'</li><li>'Congo, Dem. Rep.'</li><li>'Congo, Rep.'</li><li>'Cote d\\'Ivoire'</li><li>'Curacao'</li><li>'Dominica'</li><li>'Early-demographic dividend'</li><li>'Egypt, Arab Rep.'</li><li>'Fragile and conflict affected situations'</li><li>'Gambia, The'</li><li>'Grenada'</li><li>'Hong Kong SAR, China'</li><li>'IDA blend'</li><li>'Iran, Islamic Rep.'</li><li>'Kiribati'</li><li>'Korea, Rep.'</li><li>'Kyrgyz Republic'</li><li>'Lao PDR'</li><li>'Late-demographic dividend'</li><li>'Latin America &amp; Caribbean'</li><li>'Macao SAR, China'</li><li>'Marshall Islands'</li><li>'Micronesia, Fed. Sts.'</li><li>'Myanmar'</li><li>'Nauru'</li><li>'North America'</li><li>'Pacific island small states'</li><li>'Palau'</li><li>'Post-demographic dividend'</li><li>'Pre-demographic dividend'</li><li>'Puerto Rico'</li><li>'Russian Federation'</li><li>'Samoa'</li><li>'San Marino'</li><li>'Sint Maarten (Dutch part)'</li><li>'Slovak Republic'</li><li>'Small states'</li><li>'St. Kitts and Nevis'</li><li>'St. Lucia'</li><li>'St. Vincent and the Grenadines'</li><li>'Tonga'</li><li>'Turkiye'</li><li>'Turks and Caicos Islands'</li><li>'Tuvalu'</li><li>'United States'</li><li>'Venezuela, RB'</li><li>'West Bank and Gaza'</li><li>'Yemen, Rep.'</li></ol>\n"
      ],
      "text/latex": [
       "\\begin{enumerate*}\n",
       "\\item 'Antigua and Barbuda'\n",
       "\\item 'Aruba'\n",
       "\\item 'Bahamas, The'\n",
       "\\item 'Belize'\n",
       "\\item 'Bermuda'\n",
       "\\item 'Brunei Darussalam'\n",
       "\\item 'Cabo Verde'\n",
       "\\item 'Caribbean small states'\n",
       "\\item 'Cayman Islands'\n",
       "\\item 'Congo, Dem. Rep.'\n",
       "\\item 'Congo, Rep.'\n",
       "\\item 'Cote d\\textbackslash{}'Ivoire'\n",
       "\\item 'Curacao'\n",
       "\\item 'Dominica'\n",
       "\\item 'Early-demographic dividend'\n",
       "\\item 'Egypt, Arab Rep.'\n",
       "\\item 'Fragile and conflict affected situations'\n",
       "\\item 'Gambia, The'\n",
       "\\item 'Grenada'\n",
       "\\item 'Hong Kong SAR, China'\n",
       "\\item 'IDA blend'\n",
       "\\item 'Iran, Islamic Rep.'\n",
       "\\item 'Kiribati'\n",
       "\\item 'Korea, Rep.'\n",
       "\\item 'Kyrgyz Republic'\n",
       "\\item 'Lao PDR'\n",
       "\\item 'Late-demographic dividend'\n",
       "\\item 'Latin America \\& Caribbean'\n",
       "\\item 'Macao SAR, China'\n",
       "\\item 'Marshall Islands'\n",
       "\\item 'Micronesia, Fed. Sts.'\n",
       "\\item 'Myanmar'\n",
       "\\item 'Nauru'\n",
       "\\item 'North America'\n",
       "\\item 'Pacific island small states'\n",
       "\\item 'Palau'\n",
       "\\item 'Post-demographic dividend'\n",
       "\\item 'Pre-demographic dividend'\n",
       "\\item 'Puerto Rico'\n",
       "\\item 'Russian Federation'\n",
       "\\item 'Samoa'\n",
       "\\item 'San Marino'\n",
       "\\item 'Sint Maarten (Dutch part)'\n",
       "\\item 'Slovak Republic'\n",
       "\\item 'Small states'\n",
       "\\item 'St. Kitts and Nevis'\n",
       "\\item 'St. Lucia'\n",
       "\\item 'St. Vincent and the Grenadines'\n",
       "\\item 'Tonga'\n",
       "\\item 'Turkiye'\n",
       "\\item 'Turks and Caicos Islands'\n",
       "\\item 'Tuvalu'\n",
       "\\item 'United States'\n",
       "\\item 'Venezuela, RB'\n",
       "\\item 'West Bank and Gaza'\n",
       "\\item 'Yemen, Rep.'\n",
       "\\end{enumerate*}\n"
      ],
      "text/markdown": [
       "1. 'Antigua and Barbuda'\n",
       "2. 'Aruba'\n",
       "3. 'Bahamas, The'\n",
       "4. 'Belize'\n",
       "5. 'Bermuda'\n",
       "6. 'Brunei Darussalam'\n",
       "7. 'Cabo Verde'\n",
       "8. 'Caribbean small states'\n",
       "9. 'Cayman Islands'\n",
       "10. 'Congo, Dem. Rep.'\n",
       "11. 'Congo, Rep.'\n",
       "12. 'Cote d\\'Ivoire'\n",
       "13. 'Curacao'\n",
       "14. 'Dominica'\n",
       "15. 'Early-demographic dividend'\n",
       "16. 'Egypt, Arab Rep.'\n",
       "17. 'Fragile and conflict affected situations'\n",
       "18. 'Gambia, The'\n",
       "19. 'Grenada'\n",
       "20. 'Hong Kong SAR, China'\n",
       "21. 'IDA blend'\n",
       "22. 'Iran, Islamic Rep.'\n",
       "23. 'Kiribati'\n",
       "24. 'Korea, Rep.'\n",
       "25. 'Kyrgyz Republic'\n",
       "26. 'Lao PDR'\n",
       "27. 'Late-demographic dividend'\n",
       "28. 'Latin America &amp; Caribbean'\n",
       "29. 'Macao SAR, China'\n",
       "30. 'Marshall Islands'\n",
       "31. 'Micronesia, Fed. Sts.'\n",
       "32. 'Myanmar'\n",
       "33. 'Nauru'\n",
       "34. 'North America'\n",
       "35. 'Pacific island small states'\n",
       "36. 'Palau'\n",
       "37. 'Post-demographic dividend'\n",
       "38. 'Pre-demographic dividend'\n",
       "39. 'Puerto Rico'\n",
       "40. 'Russian Federation'\n",
       "41. 'Samoa'\n",
       "42. 'San Marino'\n",
       "43. 'Sint Maarten (Dutch part)'\n",
       "44. 'Slovak Republic'\n",
       "45. 'Small states'\n",
       "46. 'St. Kitts and Nevis'\n",
       "47. 'St. Lucia'\n",
       "48. 'St. Vincent and the Grenadines'\n",
       "49. 'Tonga'\n",
       "50. 'Turkiye'\n",
       "51. 'Turks and Caicos Islands'\n",
       "52. 'Tuvalu'\n",
       "53. 'United States'\n",
       "54. 'Venezuela, RB'\n",
       "55. 'West Bank and Gaza'\n",
       "56. 'Yemen, Rep.'\n",
       "\n",
       "\n"
      ],
      "text/plain": [
       " [1] \"Antigua and Barbuda\"                     \n",
       " [2] \"Aruba\"                                   \n",
       " [3] \"Bahamas, The\"                            \n",
       " [4] \"Belize\"                                  \n",
       " [5] \"Bermuda\"                                 \n",
       " [6] \"Brunei Darussalam\"                       \n",
       " [7] \"Cabo Verde\"                              \n",
       " [8] \"Caribbean small states\"                  \n",
       " [9] \"Cayman Islands\"                          \n",
       "[10] \"Congo, Dem. Rep.\"                        \n",
       "[11] \"Congo, Rep.\"                             \n",
       "[12] \"Cote d'Ivoire\"                           \n",
       "[13] \"Curacao\"                                 \n",
       "[14] \"Dominica\"                                \n",
       "[15] \"Early-demographic dividend\"              \n",
       "[16] \"Egypt, Arab Rep.\"                        \n",
       "[17] \"Fragile and conflict affected situations\"\n",
       "[18] \"Gambia, The\"                             \n",
       "[19] \"Grenada\"                                 \n",
       "[20] \"Hong Kong SAR, China\"                    \n",
       "[21] \"IDA blend\"                               \n",
       "[22] \"Iran, Islamic Rep.\"                      \n",
       "[23] \"Kiribati\"                                \n",
       "[24] \"Korea, Rep.\"                             \n",
       "[25] \"Kyrgyz Republic\"                         \n",
       "[26] \"Lao PDR\"                                 \n",
       "[27] \"Late-demographic dividend\"               \n",
       "[28] \"Latin America & Caribbean\"               \n",
       "[29] \"Macao SAR, China\"                        \n",
       "[30] \"Marshall Islands\"                        \n",
       "[31] \"Micronesia, Fed. Sts.\"                   \n",
       "[32] \"Myanmar\"                                 \n",
       "[33] \"Nauru\"                                   \n",
       "[34] \"North America\"                           \n",
       "[35] \"Pacific island small states\"             \n",
       "[36] \"Palau\"                                   \n",
       "[37] \"Post-demographic dividend\"               \n",
       "[38] \"Pre-demographic dividend\"                \n",
       "[39] \"Puerto Rico\"                             \n",
       "[40] \"Russian Federation\"                      \n",
       "[41] \"Samoa\"                                   \n",
       "[42] \"San Marino\"                              \n",
       "[43] \"Sint Maarten (Dutch part)\"               \n",
       "[44] \"Slovak Republic\"                         \n",
       "[45] \"Small states\"                            \n",
       "[46] \"St. Kitts and Nevis\"                     \n",
       "[47] \"St. Lucia\"                               \n",
       "[48] \"St. Vincent and the Grenadines\"          \n",
       "[49] \"Tonga\"                                   \n",
       "[50] \"Turkiye\"                                 \n",
       "[51] \"Turks and Caicos Islands\"                \n",
       "[52] \"Tuvalu\"                                  \n",
       "[53] \"United States\"                           \n",
       "[54] \"Venezuela, RB\"                           \n",
       "[55] \"West Bank and Gaza\"                      \n",
       "[56] \"Yemen, Rep.\"                             "
      ]
     },
     "metadata": {},
     "output_type": "display_data"
    }
   ],
   "source": [
    "GDPbase[! (GDPbase$`Country Name` %in% LDIbase$`country_name` | grepl((\"Africa|Asia|income|World|total|only|Euro|members|Other|ountr\"), GDPbase$`Country Name`)), \"Country Name\"] %>% unique %>% sort"
   ]
  },
  {
   "cell_type": "code",
   "execution_count": 58,
   "metadata": {},
   "outputs": [
    {
     "data": {
      "text/html": [
       "<style>\n",
       ".list-inline {list-style: none; margin:0; padding: 0}\n",
       ".list-inline>li {display: inline-block}\n",
       ".list-inline>li:not(:last-child)::after {content: \"\\00b7\"; padding: 0 .5ex}\n",
       "</style>\n",
       "<ol class=list-inline><li>'Cuba'</li><li>'North Korea'</li><li>'Palestine/Gaza'</li><li>'Somaliland'</li><li>'Syria'</li><li>'Taiwan'</li><li>'Zanzibar'</li></ol>\n"
      ],
      "text/latex": [
       "\\begin{enumerate*}\n",
       "\\item 'Cuba'\n",
       "\\item 'North Korea'\n",
       "\\item 'Palestine/Gaza'\n",
       "\\item 'Somaliland'\n",
       "\\item 'Syria'\n",
       "\\item 'Taiwan'\n",
       "\\item 'Zanzibar'\n",
       "\\end{enumerate*}\n"
      ],
      "text/markdown": [
       "1. 'Cuba'\n",
       "2. 'North Korea'\n",
       "3. 'Palestine/Gaza'\n",
       "4. 'Somaliland'\n",
       "5. 'Syria'\n",
       "6. 'Taiwan'\n",
       "7. 'Zanzibar'\n",
       "\n",
       "\n"
      ],
      "text/plain": [
       "[1] \"Cuba\"           \"North Korea\"    \"Palestine/Gaza\" \"Somaliland\"    \n",
       "[5] \"Syria\"          \"Taiwan\"         \"Zanzibar\"      "
      ]
     },
     "metadata": {},
     "output_type": "display_data"
    },
    {
     "data": {
      "text/html": [
       "<style>\n",
       ".list-inline {list-style: none; margin:0; padding: 0}\n",
       ".list-inline>li {display: inline-block}\n",
       ".list-inline>li:not(:last-child)::after {content: \"\\00b7\"; padding: 0 .5ex}\n",
       "</style>\n",
       "<ol class=list-inline><li>'Antigua and Barbuda'</li><li>'Aruba'</li><li>'Bahamas, The'</li><li>'Belize'</li><li>'Bermuda'</li><li>'Brunei Darussalam'</li><li>'Caribbean small states'</li><li>'Cayman Islands'</li><li>'Curacao'</li><li>'Dominica'</li><li>'Early-demographic dividend'</li><li>'Fragile and conflict affected situations'</li><li>'Grenada'</li><li>'IDA blend'</li><li>'Kiribati'</li><li>'Late-demographic dividend'</li><li>'Latin America &amp; Caribbean'</li><li>'Macao SAR, China'</li><li>'Marshall Islands'</li><li>'Micronesia, Fed. Sts.'</li><li>'Nauru'</li><li>'North America'</li><li>'Pacific island small states'</li><li>'Palau'</li><li>'Post-demographic dividend'</li><li>'Pre-demographic dividend'</li><li>'Puerto Rico'</li><li>'Samoa'</li><li>'San Marino'</li><li>'Sint Maarten (Dutch part)'</li><li>'Small states'</li><li>'St. Kitts and Nevis'</li><li>'St. Lucia'</li><li>'St. Vincent and the Grenadines'</li><li>'Tonga'</li><li>'Turks and Caicos Islands'</li><li>'Tuvalu'</li></ol>\n"
      ],
      "text/latex": [
       "\\begin{enumerate*}\n",
       "\\item 'Antigua and Barbuda'\n",
       "\\item 'Aruba'\n",
       "\\item 'Bahamas, The'\n",
       "\\item 'Belize'\n",
       "\\item 'Bermuda'\n",
       "\\item 'Brunei Darussalam'\n",
       "\\item 'Caribbean small states'\n",
       "\\item 'Cayman Islands'\n",
       "\\item 'Curacao'\n",
       "\\item 'Dominica'\n",
       "\\item 'Early-demographic dividend'\n",
       "\\item 'Fragile and conflict affected situations'\n",
       "\\item 'Grenada'\n",
       "\\item 'IDA blend'\n",
       "\\item 'Kiribati'\n",
       "\\item 'Late-demographic dividend'\n",
       "\\item 'Latin America \\& Caribbean'\n",
       "\\item 'Macao SAR, China'\n",
       "\\item 'Marshall Islands'\n",
       "\\item 'Micronesia, Fed. Sts.'\n",
       "\\item 'Nauru'\n",
       "\\item 'North America'\n",
       "\\item 'Pacific island small states'\n",
       "\\item 'Palau'\n",
       "\\item 'Post-demographic dividend'\n",
       "\\item 'Pre-demographic dividend'\n",
       "\\item 'Puerto Rico'\n",
       "\\item 'Samoa'\n",
       "\\item 'San Marino'\n",
       "\\item 'Sint Maarten (Dutch part)'\n",
       "\\item 'Small states'\n",
       "\\item 'St. Kitts and Nevis'\n",
       "\\item 'St. Lucia'\n",
       "\\item 'St. Vincent and the Grenadines'\n",
       "\\item 'Tonga'\n",
       "\\item 'Turks and Caicos Islands'\n",
       "\\item 'Tuvalu'\n",
       "\\end{enumerate*}\n"
      ],
      "text/markdown": [
       "1. 'Antigua and Barbuda'\n",
       "2. 'Aruba'\n",
       "3. 'Bahamas, The'\n",
       "4. 'Belize'\n",
       "5. 'Bermuda'\n",
       "6. 'Brunei Darussalam'\n",
       "7. 'Caribbean small states'\n",
       "8. 'Cayman Islands'\n",
       "9. 'Curacao'\n",
       "10. 'Dominica'\n",
       "11. 'Early-demographic dividend'\n",
       "12. 'Fragile and conflict affected situations'\n",
       "13. 'Grenada'\n",
       "14. 'IDA blend'\n",
       "15. 'Kiribati'\n",
       "16. 'Late-demographic dividend'\n",
       "17. 'Latin America &amp; Caribbean'\n",
       "18. 'Macao SAR, China'\n",
       "19. 'Marshall Islands'\n",
       "20. 'Micronesia, Fed. Sts.'\n",
       "21. 'Nauru'\n",
       "22. 'North America'\n",
       "23. 'Pacific island small states'\n",
       "24. 'Palau'\n",
       "25. 'Post-demographic dividend'\n",
       "26. 'Pre-demographic dividend'\n",
       "27. 'Puerto Rico'\n",
       "28. 'Samoa'\n",
       "29. 'San Marino'\n",
       "30. 'Sint Maarten (Dutch part)'\n",
       "31. 'Small states'\n",
       "32. 'St. Kitts and Nevis'\n",
       "33. 'St. Lucia'\n",
       "34. 'St. Vincent and the Grenadines'\n",
       "35. 'Tonga'\n",
       "36. 'Turks and Caicos Islands'\n",
       "37. 'Tuvalu'\n",
       "\n",
       "\n"
      ],
      "text/plain": [
       " [1] \"Antigua and Barbuda\"                     \n",
       " [2] \"Aruba\"                                   \n",
       " [3] \"Bahamas, The\"                            \n",
       " [4] \"Belize\"                                  \n",
       " [5] \"Bermuda\"                                 \n",
       " [6] \"Brunei Darussalam\"                       \n",
       " [7] \"Caribbean small states\"                  \n",
       " [8] \"Cayman Islands\"                          \n",
       " [9] \"Curacao\"                                 \n",
       "[10] \"Dominica\"                                \n",
       "[11] \"Early-demographic dividend\"              \n",
       "[12] \"Fragile and conflict affected situations\"\n",
       "[13] \"Grenada\"                                 \n",
       "[14] \"IDA blend\"                               \n",
       "[15] \"Kiribati\"                                \n",
       "[16] \"Late-demographic dividend\"               \n",
       "[17] \"Latin America & Caribbean\"               \n",
       "[18] \"Macao SAR, China\"                        \n",
       "[19] \"Marshall Islands\"                        \n",
       "[20] \"Micronesia, Fed. Sts.\"                   \n",
       "[21] \"Nauru\"                                   \n",
       "[22] \"North America\"                           \n",
       "[23] \"Pacific island small states\"             \n",
       "[24] \"Palau\"                                   \n",
       "[25] \"Post-demographic dividend\"               \n",
       "[26] \"Pre-demographic dividend\"                \n",
       "[27] \"Puerto Rico\"                             \n",
       "[28] \"Samoa\"                                   \n",
       "[29] \"San Marino\"                              \n",
       "[30] \"Sint Maarten (Dutch part)\"               \n",
       "[31] \"Small states\"                            \n",
       "[32] \"St. Kitts and Nevis\"                     \n",
       "[33] \"St. Lucia\"                               \n",
       "[34] \"St. Vincent and the Grenadines\"          \n",
       "[35] \"Tonga\"                                   \n",
       "[36] \"Turks and Caicos Islands\"                \n",
       "[37] \"Tuvalu\"                                  "
      ]
     },
     "metadata": {},
     "output_type": "display_data"
    }
   ],
   "source": [
    "LDIbase[LDIbase$country_name %in% \"Burma/Myanmar\", \"country_name\"] <- \"Myanmar\"\n",
    "LDIbase[LDIbase$country_name %in% \"Cape Verde\", \"country_name\"] <- \"Cabo Verde\"\n",
    "LDIbase[LDIbase$country_name %in% \"Democratic Republic of the Congo\", \"country_name\"] <- \"Congo, Dem. Rep.\"\n",
    "LDIbase[LDIbase$country_name %in% \"Egypt\", \"country_name\"] <- \"Egypt, Arab Rep.\"\n",
    "LDIbase[LDIbase$country_name %in% \"Hong Kong\", \"country_name\"] <- \"Hong Kong SAR, China\"\n",
    "LDIbase[LDIbase$country_name %in% \"Iran\", \"country_name\"] <- \"Iran, Islamic Rep.\"\n",
    "LDIbase[LDIbase$country_name %in% \"Ivory Coast\", \"country_name\"] <- \"Cote d\\'Ivoire\"\n",
    "LDIbase[LDIbase$country_name %in% \"Kyrgyzstan\", \"country_name\"] <- \"Kyrgyz Republic\"\n",
    "LDIbase[LDIbase$country_name %in% \"Laos\", \"country_name\"] <- \"Lao PDR\"\n",
    "LDIbase[LDIbase$country_name %in% \"Palestine/West Bank\", \"country_name\"] <- \"West Bank and Gaza\"\n",
    "LDIbase[LDIbase$country_name %in% \"Republic of the Congo\", \"country_name\"] <- \"Congo, Rep.\"\n",
    "LDIbase[LDIbase$country_name %in% \"Russia\", \"country_name\"] <- \"Russian Federation\"\n",
    "LDIbase[LDIbase$country_name %in% \"Slovakia\", \"country_name\"] <- \"Slovak Republic\"\n",
    "LDIbase[LDIbase$country_name %in% \"South Korea\", \"country_name\"] <- \"Korea, Rep.\"\n",
    "LDIbase[LDIbase$country_name %in% \"The Gambia\", \"country_name\"] <- \"Gambia, The\"\n",
    "LDIbase[LDIbase$country_name %in% \"Turkey\", \"country_name\"] <- \"Turkiye\"\n",
    "LDIbase[LDIbase$country_name %in% \"United States of America\", \"country_name\"] <- \"United States\"\n",
    "LDIbase[LDIbase$country_name %in% \"Venezuela\", \"country_name\"] <- \"Venezuela, RB\"\n",
    "LDIbase[LDIbase$country_name %in% \"Yemen\", \"country_name\"] <- \"Yemen, Rep.\"\n",
    "\n",
    "\n",
    "LDIbase[! LDIbase$`country_name` %in% GDPbase$`Country Name`, \"country_name\"] %>% unique %>% sort\n",
    "GDPbase[! (GDPbase$`Country Name` %in% LDIbase$`country_name` | grepl((\"Africa|Asia|income|World|total|only|Euro|members|Other|ountr\"), GDPbase$`Country Name`)), \"Country Name\"] %>% unique %>% sort"
   ]
  },
  {
   "cell_type": "markdown",
   "metadata": {},
   "source": [
    "The data sets are ready to be merged and exported now."
   ]
  },
  {
   "cell_type": "code",
   "execution_count": 61,
   "metadata": {},
   "outputs": [
    {
     "data": {
      "text/html": [
       "<table class=\"dataframe\">\n",
       "<caption>A data.frame: 6 × 8</caption>\n",
       "<thead>\n",
       "\t<tr><th></th><th scope=col>Country Name</th><th scope=col>Country Code</th><th scope=col>Year</th><th scope=col>GDPperCapPPP</th><th scope=col>v2x_libdem</th><th scope=col>v2x_libdem_codelow</th><th scope=col>v2x_libdem_codehigh</th><th scope=col>v2x_libdem_sd</th></tr>\n",
       "\t<tr><th></th><th scope=col>&lt;chr&gt;</th><th scope=col>&lt;chr&gt;</th><th scope=col>&lt;int&gt;</th><th scope=col>&lt;dbl&gt;</th><th scope=col>&lt;dbl&gt;</th><th scope=col>&lt;dbl&gt;</th><th scope=col>&lt;dbl&gt;</th><th scope=col>&lt;dbl&gt;</th></tr>\n",
       "</thead>\n",
       "<tbody>\n",
       "\t<tr><th scope=row>1</th><td>Afghanistan</td><td>AFG</td><td>2005</td><td>1023.550</td><td>0.133</td><td>0.108</td><td>0.152</td><td>0.022</td></tr>\n",
       "\t<tr><th scope=row>2</th><td>Afghanistan</td><td>AFG</td><td>2006</td><td>1078.907</td><td>0.229</td><td>0.193</td><td>0.259</td><td>0.034</td></tr>\n",
       "\t<tr><th scope=row>3</th><td>Afghanistan</td><td>AFG</td><td>2007</td><td>1230.205</td><td>0.231</td><td>0.200</td><td>0.265</td><td>0.034</td></tr>\n",
       "\t<tr><th scope=row>4</th><td>Afghanistan</td><td>AFG</td><td>2008</td><td>1273.788</td><td>0.234</td><td>0.198</td><td>0.265</td><td>0.035</td></tr>\n",
       "\t<tr><th scope=row>5</th><td>Afghanistan</td><td>AFG</td><td>2009</td><td>1519.311</td><td>0.231</td><td>0.194</td><td>0.260</td><td>0.034</td></tr>\n",
       "\t<tr><th scope=row>6</th><td>Afghanistan</td><td>AFG</td><td>2010</td><td>1710.763</td><td>0.227</td><td>0.195</td><td>0.258</td><td>0.033</td></tr>\n",
       "</tbody>\n",
       "</table>\n"
      ],
      "text/latex": [
       "A data.frame: 6 × 8\n",
       "\\begin{tabular}{r|llllllll}\n",
       "  & Country Name & Country Code & Year & GDPperCapPPP & v2x\\_libdem & v2x\\_libdem\\_codelow & v2x\\_libdem\\_codehigh & v2x\\_libdem\\_sd\\\\\n",
       "  & <chr> & <chr> & <int> & <dbl> & <dbl> & <dbl> & <dbl> & <dbl>\\\\\n",
       "\\hline\n",
       "\t1 & Afghanistan & AFG & 2005 & 1023.550 & 0.133 & 0.108 & 0.152 & 0.022\\\\\n",
       "\t2 & Afghanistan & AFG & 2006 & 1078.907 & 0.229 & 0.193 & 0.259 & 0.034\\\\\n",
       "\t3 & Afghanistan & AFG & 2007 & 1230.205 & 0.231 & 0.200 & 0.265 & 0.034\\\\\n",
       "\t4 & Afghanistan & AFG & 2008 & 1273.788 & 0.234 & 0.198 & 0.265 & 0.035\\\\\n",
       "\t5 & Afghanistan & AFG & 2009 & 1519.311 & 0.231 & 0.194 & 0.260 & 0.034\\\\\n",
       "\t6 & Afghanistan & AFG & 2010 & 1710.763 & 0.227 & 0.195 & 0.258 & 0.033\\\\\n",
       "\\end{tabular}\n"
      ],
      "text/markdown": [
       "\n",
       "A data.frame: 6 × 8\n",
       "\n",
       "| <!--/--> | Country Name &lt;chr&gt; | Country Code &lt;chr&gt; | Year &lt;int&gt; | GDPperCapPPP &lt;dbl&gt; | v2x_libdem &lt;dbl&gt; | v2x_libdem_codelow &lt;dbl&gt; | v2x_libdem_codehigh &lt;dbl&gt; | v2x_libdem_sd &lt;dbl&gt; |\n",
       "|---|---|---|---|---|---|---|---|---|\n",
       "| 1 | Afghanistan | AFG | 2005 | 1023.550 | 0.133 | 0.108 | 0.152 | 0.022 |\n",
       "| 2 | Afghanistan | AFG | 2006 | 1078.907 | 0.229 | 0.193 | 0.259 | 0.034 |\n",
       "| 3 | Afghanistan | AFG | 2007 | 1230.205 | 0.231 | 0.200 | 0.265 | 0.034 |\n",
       "| 4 | Afghanistan | AFG | 2008 | 1273.788 | 0.234 | 0.198 | 0.265 | 0.035 |\n",
       "| 5 | Afghanistan | AFG | 2009 | 1519.311 | 0.231 | 0.194 | 0.260 | 0.034 |\n",
       "| 6 | Afghanistan | AFG | 2010 | 1710.763 | 0.227 | 0.195 | 0.258 | 0.033 |\n",
       "\n"
      ],
      "text/plain": [
       "  Country Name Country Code Year GDPperCapPPP v2x_libdem v2x_libdem_codelow\n",
       "1 Afghanistan  AFG          2005 1023.550     0.133      0.108             \n",
       "2 Afghanistan  AFG          2006 1078.907     0.229      0.193             \n",
       "3 Afghanistan  AFG          2007 1230.205     0.231      0.200             \n",
       "4 Afghanistan  AFG          2008 1273.788     0.234      0.198             \n",
       "5 Afghanistan  AFG          2009 1519.311     0.231      0.194             \n",
       "6 Afghanistan  AFG          2010 1710.763     0.227      0.195             \n",
       "  v2x_libdem_codehigh v2x_libdem_sd\n",
       "1 0.152               0.022        \n",
       "2 0.259               0.034        \n",
       "3 0.265               0.034        \n",
       "4 0.265               0.035        \n",
       "5 0.260               0.034        \n",
       "6 0.258               0.033        "
      ]
     },
     "metadata": {},
     "output_type": "display_data"
    },
    {
     "data": {
      "text/html": [
       "<style>\n",
       ".list-inline {list-style: none; margin:0; padding: 0}\n",
       ".list-inline>li {display: inline-block}\n",
       ".list-inline>li:not(:last-child)::after {content: \"\\00b7\"; padding: 0 .5ex}\n",
       "</style>\n",
       "<ol class=list-inline><li>2857</li><li>8</li></ol>\n"
      ],
      "text/latex": [
       "\\begin{enumerate*}\n",
       "\\item 2857\n",
       "\\item 8\n",
       "\\end{enumerate*}\n"
      ],
      "text/markdown": [
       "1. 2857\n",
       "2. 8\n",
       "\n",
       "\n"
      ],
      "text/plain": [
       "[1] 2857    8"
      ]
     },
     "metadata": {},
     "output_type": "display_data"
    }
   ],
   "source": [
    "GDPandLDI <- inner_join(GDPbase, LDIbase %>% select(-country_text_id), by = c(\"Country Name\" = \"country_name\", \"Year\" = \"year\"))\n",
    "head(GDPandLDI)\n",
    "dim(GDPandLDI)\n",
    "write.csv(GDPandLDI, \"GDPandLDI.csv\", row.names = FALSE)"
   ]
  },
  {
   "cell_type": "markdown",
   "metadata": {},
   "source": [
    "In the future, if we have to merge the LDI and the GDP data sets, we can just merge them using the `country_text_id` and `Country Code` without changing the country names in the LDI data.\n",
    "\n",
    "The data frame from merging with `country_text_id` (shown in the following) has the same number of rows as the above merged data frame. This is actually indicating that, though how LDI coded the `country_text_id` is unclear, the way they coded the country code and country_text_id is the same."
   ]
  },
  {
   "cell_type": "code",
   "execution_count": 54,
   "metadata": {},
   "outputs": [
    {
     "data": {
      "text/html": [
       "<table class=\"dataframe\">\n",
       "<caption>A data.frame: 6 × 9</caption>\n",
       "<thead>\n",
       "\t<tr><th></th><th scope=col>Country Name</th><th scope=col>Country Code</th><th scope=col>Year</th><th scope=col>GDPperCapPPP</th><th scope=col>country_name</th><th scope=col>v2x_libdem</th><th scope=col>v2x_libdem_codelow</th><th scope=col>v2x_libdem_codehigh</th><th scope=col>v2x_libdem_sd</th></tr>\n",
       "\t<tr><th></th><th scope=col>&lt;chr&gt;</th><th scope=col>&lt;chr&gt;</th><th scope=col>&lt;int&gt;</th><th scope=col>&lt;dbl&gt;</th><th scope=col>&lt;chr&gt;</th><th scope=col>&lt;dbl&gt;</th><th scope=col>&lt;dbl&gt;</th><th scope=col>&lt;dbl&gt;</th><th scope=col>&lt;dbl&gt;</th></tr>\n",
       "</thead>\n",
       "<tbody>\n",
       "\t<tr><th scope=row>1</th><td>Afghanistan</td><td>AFG</td><td>2005</td><td>1023.550</td><td>Afghanistan</td><td>0.133</td><td>0.108</td><td>0.152</td><td>0.022</td></tr>\n",
       "\t<tr><th scope=row>2</th><td>Afghanistan</td><td>AFG</td><td>2006</td><td>1078.907</td><td>Afghanistan</td><td>0.229</td><td>0.193</td><td>0.259</td><td>0.034</td></tr>\n",
       "\t<tr><th scope=row>3</th><td>Afghanistan</td><td>AFG</td><td>2007</td><td>1230.205</td><td>Afghanistan</td><td>0.231</td><td>0.200</td><td>0.265</td><td>0.034</td></tr>\n",
       "\t<tr><th scope=row>4</th><td>Afghanistan</td><td>AFG</td><td>2008</td><td>1273.788</td><td>Afghanistan</td><td>0.234</td><td>0.198</td><td>0.265</td><td>0.035</td></tr>\n",
       "\t<tr><th scope=row>5</th><td>Afghanistan</td><td>AFG</td><td>2009</td><td>1519.311</td><td>Afghanistan</td><td>0.231</td><td>0.194</td><td>0.260</td><td>0.034</td></tr>\n",
       "\t<tr><th scope=row>6</th><td>Afghanistan</td><td>AFG</td><td>2010</td><td>1710.763</td><td>Afghanistan</td><td>0.227</td><td>0.195</td><td>0.258</td><td>0.033</td></tr>\n",
       "</tbody>\n",
       "</table>\n"
      ],
      "text/latex": [
       "A data.frame: 6 × 9\n",
       "\\begin{tabular}{r|lllllllll}\n",
       "  & Country Name & Country Code & Year & GDPperCapPPP & country\\_name & v2x\\_libdem & v2x\\_libdem\\_codelow & v2x\\_libdem\\_codehigh & v2x\\_libdem\\_sd\\\\\n",
       "  & <chr> & <chr> & <int> & <dbl> & <chr> & <dbl> & <dbl> & <dbl> & <dbl>\\\\\n",
       "\\hline\n",
       "\t1 & Afghanistan & AFG & 2005 & 1023.550 & Afghanistan & 0.133 & 0.108 & 0.152 & 0.022\\\\\n",
       "\t2 & Afghanistan & AFG & 2006 & 1078.907 & Afghanistan & 0.229 & 0.193 & 0.259 & 0.034\\\\\n",
       "\t3 & Afghanistan & AFG & 2007 & 1230.205 & Afghanistan & 0.231 & 0.200 & 0.265 & 0.034\\\\\n",
       "\t4 & Afghanistan & AFG & 2008 & 1273.788 & Afghanistan & 0.234 & 0.198 & 0.265 & 0.035\\\\\n",
       "\t5 & Afghanistan & AFG & 2009 & 1519.311 & Afghanistan & 0.231 & 0.194 & 0.260 & 0.034\\\\\n",
       "\t6 & Afghanistan & AFG & 2010 & 1710.763 & Afghanistan & 0.227 & 0.195 & 0.258 & 0.033\\\\\n",
       "\\end{tabular}\n"
      ],
      "text/markdown": [
       "\n",
       "A data.frame: 6 × 9\n",
       "\n",
       "| <!--/--> | Country Name &lt;chr&gt; | Country Code &lt;chr&gt; | Year &lt;int&gt; | GDPperCapPPP &lt;dbl&gt; | country_name &lt;chr&gt; | v2x_libdem &lt;dbl&gt; | v2x_libdem_codelow &lt;dbl&gt; | v2x_libdem_codehigh &lt;dbl&gt; | v2x_libdem_sd &lt;dbl&gt; |\n",
       "|---|---|---|---|---|---|---|---|---|---|\n",
       "| 1 | Afghanistan | AFG | 2005 | 1023.550 | Afghanistan | 0.133 | 0.108 | 0.152 | 0.022 |\n",
       "| 2 | Afghanistan | AFG | 2006 | 1078.907 | Afghanistan | 0.229 | 0.193 | 0.259 | 0.034 |\n",
       "| 3 | Afghanistan | AFG | 2007 | 1230.205 | Afghanistan | 0.231 | 0.200 | 0.265 | 0.034 |\n",
       "| 4 | Afghanistan | AFG | 2008 | 1273.788 | Afghanistan | 0.234 | 0.198 | 0.265 | 0.035 |\n",
       "| 5 | Afghanistan | AFG | 2009 | 1519.311 | Afghanistan | 0.231 | 0.194 | 0.260 | 0.034 |\n",
       "| 6 | Afghanistan | AFG | 2010 | 1710.763 | Afghanistan | 0.227 | 0.195 | 0.258 | 0.033 |\n",
       "\n"
      ],
      "text/plain": [
       "  Country Name Country Code Year GDPperCapPPP country_name v2x_libdem\n",
       "1 Afghanistan  AFG          2005 1023.550     Afghanistan  0.133     \n",
       "2 Afghanistan  AFG          2006 1078.907     Afghanistan  0.229     \n",
       "3 Afghanistan  AFG          2007 1230.205     Afghanistan  0.231     \n",
       "4 Afghanistan  AFG          2008 1273.788     Afghanistan  0.234     \n",
       "5 Afghanistan  AFG          2009 1519.311     Afghanistan  0.231     \n",
       "6 Afghanistan  AFG          2010 1710.763     Afghanistan  0.227     \n",
       "  v2x_libdem_codelow v2x_libdem_codehigh v2x_libdem_sd\n",
       "1 0.108              0.152               0.022        \n",
       "2 0.193              0.259               0.034        \n",
       "3 0.200              0.265               0.034        \n",
       "4 0.198              0.265               0.035        \n",
       "5 0.194              0.260               0.034        \n",
       "6 0.195              0.258               0.033        "
      ]
     },
     "metadata": {},
     "output_type": "display_data"
    },
    {
     "data": {
      "text/html": [
       "<style>\n",
       ".list-inline {list-style: none; margin:0; padding: 0}\n",
       ".list-inline>li {display: inline-block}\n",
       ".list-inline>li:not(:last-child)::after {content: \"\\00b7\"; padding: 0 .5ex}\n",
       "</style>\n",
       "<ol class=list-inline><li>2857</li><li>9</li></ol>\n"
      ],
      "text/latex": [
       "\\begin{enumerate*}\n",
       "\\item 2857\n",
       "\\item 9\n",
       "\\end{enumerate*}\n"
      ],
      "text/markdown": [
       "1. 2857\n",
       "2. 9\n",
       "\n",
       "\n"
      ],
      "text/plain": [
       "[1] 2857    9"
      ]
     },
     "metadata": {},
     "output_type": "display_data"
    }
   ],
   "source": [
    "GDPbase2 <- GDPraw %>% select(-`Indicator Name`, -`Indicator Code`, -V67)\n",
    "GDPbase2 <- tidyr::pivot_longer(data = GDPbase2, cols = `1960`:`2021`, names_to = \"Year\", values_to = \"GDPperCapPPP\")\n",
    "GDPbase2 <- GDPbase2 %>% drop_na %>% filter(Year >= 2005)  %>% as.data.frame\n",
    "GDPbase2 <- GDPbase2 %>% mutate(Year = as.integer(Year))\n",
    "\n",
    "LDIbase2 <- LDIraw %>% filter(year >= 2005)\n",
    "GDPandLDI2 <- inner_join(GDPbase2, LDIbase2, by = c(\"Country Code\" = \"country_text_id\", \"Year\" = \"year\"))\n",
    "head(GDPandLDI2)\n",
    "dim(GDPandLDI2)"
   ]
  }
 ],
 "metadata": {
  "kernelspec": {
   "display_name": "R 4.0.3",
   "language": "R",
   "name": "ir403"
  },
  "language_info": {
   "codemirror_mode": "r",
   "file_extension": ".r",
   "mimetype": "text/x-r-source",
   "name": "R",
   "pygments_lexer": "r",
   "version": "4.0.3"
  }
 },
 "nbformat": 4,
 "nbformat_minor": 4
}
