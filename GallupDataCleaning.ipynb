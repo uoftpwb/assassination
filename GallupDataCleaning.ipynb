{
 "cells": [
  {
   "cell_type": "markdown",
   "metadata": {},
   "source": [
    "#### Install the useful packages."
   ]
  },
  {
   "cell_type": "code",
   "execution_count": 4,
   "metadata": {},
   "outputs": [
    {
     "data": {
      "text/html": [
       "<ol>\n",
       "\t<li><style>\n",
       ".list-inline {list-style: none; margin:0; padding: 0}\n",
       ".list-inline>li {display: inline-block}\n",
       ".list-inline>li:not(:last-child)::after {content: \"\\00b7\"; padding: 0 .5ex}\n",
       "</style>\n",
       "<ol class=list-inline><li>'easypackages'</li><li>'stats'</li><li>'graphics'</li><li>'grDevices'</li><li>'utils'</li><li>'datasets'</li><li>'methods'</li><li>'base'</li></ol>\n",
       "</li>\n",
       "</ol>\n"
      ],
      "text/latex": [
       "\\begin{enumerate}\n",
       "\\item \\begin{enumerate*}\n",
       "\\item 'easypackages'\n",
       "\\item 'stats'\n",
       "\\item 'graphics'\n",
       "\\item 'grDevices'\n",
       "\\item 'utils'\n",
       "\\item 'datasets'\n",
       "\\item 'methods'\n",
       "\\item 'base'\n",
       "\\end{enumerate*}\n",
       "\n",
       "\\end{enumerate}\n"
      ],
      "text/markdown": [
       "1. 1. 'easypackages'\n",
       "2. 'stats'\n",
       "3. 'graphics'\n",
       "4. 'grDevices'\n",
       "5. 'utils'\n",
       "6. 'datasets'\n",
       "7. 'methods'\n",
       "8. 'base'\n",
       "\n",
       "\n",
       "\n",
       "\n",
       "\n"
      ],
      "text/plain": [
       "[[1]]\n",
       "[1] \"easypackages\" \"stats\"        \"graphics\"     \"grDevices\"    \"utils\"       \n",
       "[6] \"datasets\"     \"methods\"      \"base\"        \n"
      ]
     },
     "metadata": {},
     "output_type": "display_data"
    },
    {
     "name": "stderr",
     "output_type": "stream",
     "text": [
      "Loading required package: dplyr\n",
      "\n",
      "\n",
      "Attaching package: ‘dplyr’\n",
      "\n",
      "\n",
      "The following objects are masked from ‘package:stats’:\n",
      "\n",
      "    filter, lag\n",
      "\n",
      "\n",
      "The following objects are masked from ‘package:base’:\n",
      "\n",
      "    intersect, setdiff, setequal, union\n",
      "\n",
      "\n",
      "Loading required package: tidyr\n",
      "\n",
      "All packages loaded successfully\n",
      "\n"
     ]
    }
   ],
   "source": [
    "myPackages <- c(\"easypackages\")\n",
    "#the argument `lib.loc = \"~/rlib\"` is used because the packages were installed in this folder in my case\n",
    "lapply(myPackages, library, lib.loc = \"~/rlib\", character.only = TRUE) \n",
    "libraries(\"dplyr\", \"tidyr\")"
   ]
  },
  {
   "cell_type": "markdown",
   "metadata": {},
   "source": [
    "#### Import the gallup data that contain every country."
   ]
  },
  {
   "cell_type": "code",
   "execution_count": 8,
   "metadata": {},
   "outputs": [
    {
     "name": "stderr",
     "output_type": "stream",
     "text": [
      "Ambiguous file format ('.dat'), but attempting 'data.table::fread(\"~/gallup data/The_Gallup_042722.dat\")'\n",
      "\n"
     ]
    }
   ],
   "source": [
    "gallupRaw <- rio::import(\"~/gallup data/The_Gallup_042722.dat\")"
   ]
  },
  {
   "cell_type": "markdown",
   "metadata": {},
   "source": [
    "We need country name, country code, weight, survey date, survey year, ls, hope, PA, NA\n",
    "\n",
    "Filter the data and save the it for future use."
   ]
  },
  {
   "cell_type": "code",
   "execution_count": 9,
   "metadata": {},
   "outputs": [],
   "source": [
    "gallupExtracted <- gallupRaw %>% select(COUNTRYNEW, COUNTRY_ISO3, WGT, FIELD_DATE, \n",
    "                                        YEAR_WAVE, YEAR_CALENDAR, ls = WP16, \n",
    "                                        hope = WP18, smile = WP63, enjoy = WP67, \n",
    "                                        worry = WP69, sad = WP70, stress = WP71,\n",
    "                                        anger = WP74)\n",
    "write.csv(gallupExtracted, \"gallupExtracted.csv\", row.names = FALSE)"
   ]
  },
  {
   "cell_type": "code",
   "execution_count": 1,
   "metadata": {},
   "outputs": [
    {
     "data": {
      "text/html": [
       "<style>\n",
       ".list-inline {list-style: none; margin:0; padding: 0}\n",
       ".list-inline>li {display: inline-block}\n",
       ".list-inline>li:not(:last-child)::after {content: \"\\00b7\"; padding: 0 .5ex}\n",
       "</style>\n",
       "<ol class=list-inline><li>'COUNTRYNEW'</li><li>'COUNTRY_ISO3'</li><li>'WGT'</li><li>'FIELD_DATE'</li><li>'YEAR_WAVE'</li><li>'YEAR_CALENDAR'</li><li>'ls'</li><li>'hope'</li><li>'smile'</li><li>'enjoy'</li><li>'worry'</li><li>'sad'</li><li>'stress'</li><li>'anger'</li></ol>\n"
      ],
      "text/latex": [
       "\\begin{enumerate*}\n",
       "\\item 'COUNTRYNEW'\n",
       "\\item 'COUNTRY\\_ISO3'\n",
       "\\item 'WGT'\n",
       "\\item 'FIELD\\_DATE'\n",
       "\\item 'YEAR\\_WAVE'\n",
       "\\item 'YEAR\\_CALENDAR'\n",
       "\\item 'ls'\n",
       "\\item 'hope'\n",
       "\\item 'smile'\n",
       "\\item 'enjoy'\n",
       "\\item 'worry'\n",
       "\\item 'sad'\n",
       "\\item 'stress'\n",
       "\\item 'anger'\n",
       "\\end{enumerate*}\n"
      ],
      "text/markdown": [
       "1. 'COUNTRYNEW'\n",
       "2. 'COUNTRY_ISO3'\n",
       "3. 'WGT'\n",
       "4. 'FIELD_DATE'\n",
       "5. 'YEAR_WAVE'\n",
       "6. 'YEAR_CALENDAR'\n",
       "7. 'ls'\n",
       "8. 'hope'\n",
       "9. 'smile'\n",
       "10. 'enjoy'\n",
       "11. 'worry'\n",
       "12. 'sad'\n",
       "13. 'stress'\n",
       "14. 'anger'\n",
       "\n",
       "\n"
      ],
      "text/plain": [
       " [1] \"COUNTRYNEW\"    \"COUNTRY_ISO3\"  \"WGT\"           \"FIELD_DATE\"   \n",
       " [5] \"YEAR_WAVE\"     \"YEAR_CALENDAR\" \"ls\"            \"hope\"         \n",
       " [9] \"smile\"         \"enjoy\"         \"worry\"         \"sad\"          \n",
       "[13] \"stress\"        \"anger\"        "
      ]
     },
     "metadata": {},
     "output_type": "display_data"
    },
    {
     "data": {
      "text/html": [
       "<style>\n",
       ".list-inline {list-style: none; margin:0; padding: 0}\n",
       ".list-inline>li {display: inline-block}\n",
       ".list-inline>li:not(:last-child)::after {content: \"\\00b7\"; padding: 0 .5ex}\n",
       "</style>\n",
       "<ol class=list-inline><li>2450403</li><li>14</li></ol>\n"
      ],
      "text/latex": [
       "\\begin{enumerate*}\n",
       "\\item 2450403\n",
       "\\item 14\n",
       "\\end{enumerate*}\n"
      ],
      "text/markdown": [
       "1. 2450403\n",
       "2. 14\n",
       "\n",
       "\n"
      ],
      "text/plain": [
       "[1] 2450403      14"
      ]
     },
     "metadata": {},
     "output_type": "display_data"
    }
   ],
   "source": [
    "gallupExtracted <- rio::import(\"gallupExtracted.csv\")\n",
    "colnames(gallupExtracted)\n",
    "dim(gallupExtracted)"
   ]
  },
  {
   "cell_type": "markdown",
   "metadata": {},
   "source": [
    "Create a function for changing the \"DK\" / \"Refused\" response to NA."
   ]
  },
  {
   "cell_type": "code",
   "execution_count": 3,
   "metadata": {},
   "outputs": [],
   "source": [
    "na_codes <- function(x, ...) {\n",
    "    for(y in list(...))\n",
    "        x[x == y] <- NA\n",
    "    x\n",
    "}"
   ]
  },
  {
   "cell_type": "markdown",
   "metadata": {},
   "source": [
    "Change the \"DK\" / \"Refused\" response to NA\n",
    "\n",
    "Change the responses to SWB from [1 Yes, 2 No] to [1 Yes, 0 No] for getting the means for individual positive affect and negative affect"
   ]
  },
  {
   "cell_type": "code",
   "execution_count": 5,
   "metadata": {},
   "outputs": [
    {
     "data": {
      "text/html": [
       "<table class=\"dataframe\">\n",
       "<caption>A tibble: 6 × 16</caption>\n",
       "<thead>\n",
       "\t<tr><th scope=col>COUNTRYNEW</th><th scope=col>COUNTRY_ISO3</th><th scope=col>WGT</th><th scope=col>FIELD_DATE</th><th scope=col>YEAR_WAVE</th><th scope=col>YEAR_CALENDAR</th><th scope=col>ls</th><th scope=col>hope</th><th scope=col>smile</th><th scope=col>enjoy</th><th scope=col>worry</th><th scope=col>sad</th><th scope=col>stress</th><th scope=col>anger</th><th scope=col>pa</th><th scope=col>na</th></tr>\n",
       "\t<tr><th scope=col>&lt;chr&gt;</th><th scope=col>&lt;chr&gt;</th><th scope=col>&lt;dbl&gt;</th><th scope=col>&lt;chr&gt;</th><th scope=col>&lt;int&gt;</th><th scope=col>&lt;int&gt;</th><th scope=col>&lt;int&gt;</th><th scope=col>&lt;int&gt;</th><th scope=col>&lt;int&gt;</th><th scope=col>&lt;int&gt;</th><th scope=col>&lt;int&gt;</th><th scope=col>&lt;int&gt;</th><th scope=col>&lt;int&gt;</th><th scope=col>&lt;int&gt;</th><th scope=col>&lt;dbl&gt;</th><th scope=col>&lt;dbl&gt;</th></tr>\n",
       "</thead>\n",
       "<tbody>\n",
       "\t<tr><td>United States</td><td>USA</td><td>0.6689163</td><td>7/1/2006</td><td>2006</td><td>2006</td><td> 6</td><td> 8</td><td>1</td><td>1</td><td>2</td><td>2</td><td>2</td><td>2</td><td>1</td><td>2.0</td></tr>\n",
       "\t<tr><td>United States</td><td>USA</td><td>0.1966555</td><td>7/1/2006</td><td>2006</td><td>2006</td><td> 8</td><td>NA</td><td>1</td><td>1</td><td>2</td><td>2</td><td>2</td><td>2</td><td>1</td><td>2.0</td></tr>\n",
       "\t<tr><td>United States</td><td>USA</td><td>1.3032635</td><td>7/1/2006</td><td>2006</td><td>2006</td><td> 8</td><td> 8</td><td>1</td><td>1</td><td>1</td><td>2</td><td>1</td><td>2</td><td>1</td><td>1.5</td></tr>\n",
       "\t<tr><td>United States</td><td>USA</td><td>0.6359364</td><td>7/1/2006</td><td>2006</td><td>2006</td><td> 8</td><td> 8</td><td>1</td><td>1</td><td>2</td><td>2</td><td>2</td><td>2</td><td>1</td><td>2.0</td></tr>\n",
       "\t<tr><td>United States</td><td>USA</td><td>0.7358092</td><td>7/1/2006</td><td>2006</td><td>2006</td><td>10</td><td>10</td><td>1</td><td>1</td><td>2</td><td>2</td><td>2</td><td>2</td><td>1</td><td>2.0</td></tr>\n",
       "\t<tr><td>United States</td><td>USA</td><td>1.7369582</td><td>7/1/2006</td><td>2006</td><td>2006</td><td> 5</td><td>10</td><td>1</td><td>1</td><td>1</td><td>1</td><td>1</td><td>1</td><td>1</td><td>1.0</td></tr>\n",
       "</tbody>\n",
       "</table>\n"
      ],
      "text/latex": [
       "A tibble: 6 × 16\n",
       "\\begin{tabular}{llllllllllllllll}\n",
       " COUNTRYNEW & COUNTRY\\_ISO3 & WGT & FIELD\\_DATE & YEAR\\_WAVE & YEAR\\_CALENDAR & ls & hope & smile & enjoy & worry & sad & stress & anger & pa & na\\\\\n",
       " <chr> & <chr> & <dbl> & <chr> & <int> & <int> & <int> & <int> & <int> & <int> & <int> & <int> & <int> & <int> & <dbl> & <dbl>\\\\\n",
       "\\hline\n",
       "\t United States & USA & 0.6689163 & 7/1/2006 & 2006 & 2006 &  6 &  8 & 1 & 1 & 2 & 2 & 2 & 2 & 1 & 2.0\\\\\n",
       "\t United States & USA & 0.1966555 & 7/1/2006 & 2006 & 2006 &  8 & NA & 1 & 1 & 2 & 2 & 2 & 2 & 1 & 2.0\\\\\n",
       "\t United States & USA & 1.3032635 & 7/1/2006 & 2006 & 2006 &  8 &  8 & 1 & 1 & 1 & 2 & 1 & 2 & 1 & 1.5\\\\\n",
       "\t United States & USA & 0.6359364 & 7/1/2006 & 2006 & 2006 &  8 &  8 & 1 & 1 & 2 & 2 & 2 & 2 & 1 & 2.0\\\\\n",
       "\t United States & USA & 0.7358092 & 7/1/2006 & 2006 & 2006 & 10 & 10 & 1 & 1 & 2 & 2 & 2 & 2 & 1 & 2.0\\\\\n",
       "\t United States & USA & 1.7369582 & 7/1/2006 & 2006 & 2006 &  5 & 10 & 1 & 1 & 1 & 1 & 1 & 1 & 1 & 1.0\\\\\n",
       "\\end{tabular}\n"
      ],
      "text/markdown": [
       "\n",
       "A tibble: 6 × 16\n",
       "\n",
       "| COUNTRYNEW &lt;chr&gt; | COUNTRY_ISO3 &lt;chr&gt; | WGT &lt;dbl&gt; | FIELD_DATE &lt;chr&gt; | YEAR_WAVE &lt;int&gt; | YEAR_CALENDAR &lt;int&gt; | ls &lt;int&gt; | hope &lt;int&gt; | smile &lt;int&gt; | enjoy &lt;int&gt; | worry &lt;int&gt; | sad &lt;int&gt; | stress &lt;int&gt; | anger &lt;int&gt; | pa &lt;dbl&gt; | na &lt;dbl&gt; |\n",
       "|---|---|---|---|---|---|---|---|---|---|---|---|---|---|---|---|\n",
       "| United States | USA | 0.6689163 | 7/1/2006 | 2006 | 2006 |  6 |  8 | 1 | 1 | 2 | 2 | 2 | 2 | 1 | 2.0 |\n",
       "| United States | USA | 0.1966555 | 7/1/2006 | 2006 | 2006 |  8 | NA | 1 | 1 | 2 | 2 | 2 | 2 | 1 | 2.0 |\n",
       "| United States | USA | 1.3032635 | 7/1/2006 | 2006 | 2006 |  8 |  8 | 1 | 1 | 1 | 2 | 1 | 2 | 1 | 1.5 |\n",
       "| United States | USA | 0.6359364 | 7/1/2006 | 2006 | 2006 |  8 |  8 | 1 | 1 | 2 | 2 | 2 | 2 | 1 | 2.0 |\n",
       "| United States | USA | 0.7358092 | 7/1/2006 | 2006 | 2006 | 10 | 10 | 1 | 1 | 2 | 2 | 2 | 2 | 1 | 2.0 |\n",
       "| United States | USA | 1.7369582 | 7/1/2006 | 2006 | 2006 |  5 | 10 | 1 | 1 | 1 | 1 | 1 | 1 | 1 | 1.0 |\n",
       "\n"
      ],
      "text/plain": [
       "  COUNTRYNEW    COUNTRY_ISO3 WGT       FIELD_DATE YEAR_WAVE YEAR_CALENDAR ls\n",
       "1 United States USA          0.6689163 7/1/2006   2006      2006           6\n",
       "2 United States USA          0.1966555 7/1/2006   2006      2006           8\n",
       "3 United States USA          1.3032635 7/1/2006   2006      2006           8\n",
       "4 United States USA          0.6359364 7/1/2006   2006      2006           8\n",
       "5 United States USA          0.7358092 7/1/2006   2006      2006          10\n",
       "6 United States USA          1.7369582 7/1/2006   2006      2006           5\n",
       "  hope smile enjoy worry sad stress anger pa na \n",
       "1  8   1     1     2     2   2      2     1  2.0\n",
       "2 NA   1     1     2     2   2      2     1  2.0\n",
       "3  8   1     1     1     2   1      2     1  1.5\n",
       "4  8   1     1     2     2   2      2     1  2.0\n",
       "5 10   1     1     2     2   2      2     1  2.0\n",
       "6 10   1     1     1     1   1      1     1  1.0"
      ]
     },
     "metadata": {},
     "output_type": "display_data"
    }
   ],
   "source": [
    "gallupAssas <- gallupExtracted\n",
    "#life satisfication\n",
    "gallupAssas$ls <- na_codes(gallupAssas$ls, 98, 99)\n",
    "#hope\n",
    "gallupAssas$hope <- na_codes(gallupAssas$hope, 98, 99)\n",
    "#pa and #na\n",
    "gallupAssas$smile <- na_codes(gallupAssas$smile, 3, 4)\n",
    "gallupAssas$enjoy <- na_codes(gallupAssas$enjoy, 3, 4)\n",
    "gallupAssas$worry <- na_codes(gallupAssas$worry, 3, 4)\n",
    "gallupAssas$sad <- na_codes(gallupAssas$sad, 3, 4)\n",
    "gallupAssas$stress <- na_codes(gallupAssas$stress, 3, 4)\n",
    "gallupAssas$anger <- na_codes(gallupAssas$anger, 3, 4)\n",
    "gallupAssas <- gallupAssas %>% \n",
    " rowwise() %>% \n",
    " mutate(pa = mean(cbind(enjoy, smile), na.rm=TRUE),\n",
    "        na = mean(cbind(worry, sad, stress, anger), na.rm=TRUE)) %>% ungroup\n",
    "head(gallupAssas)"
   ]
  },
  {
   "cell_type": "code",
   "execution_count": 6,
   "metadata": {},
   "outputs": [],
   "source": [
    "write.csv(gallupAssas, \"gallupAssas.csv\")"
   ]
  },
  {
   "cell_type": "code",
   "execution_count": 7,
   "metadata": {},
   "outputs": [
    {
     "data": {
      "text/html": [
       "<style>\n",
       ".list-inline {list-style: none; margin:0; padding: 0}\n",
       ".list-inline>li {display: inline-block}\n",
       ".list-inline>li:not(:last-child)::after {content: \"\\00b7\"; padding: 0 .5ex}\n",
       "</style>\n",
       "<ol class=list-inline><li>'COUNTRYNEW'</li><li>'COUNTRY_ISO3'</li><li>'WGT'</li><li>'FIELD_DATE'</li><li>'YEAR_WAVE'</li><li>'YEAR_CALENDAR'</li><li>'ls'</li><li>'hope'</li><li>'smile'</li><li>'enjoy'</li><li>'worry'</li><li>'sad'</li><li>'stress'</li><li>'anger'</li><li>'pa'</li><li>'na'</li></ol>\n"
      ],
      "text/latex": [
       "\\begin{enumerate*}\n",
       "\\item 'COUNTRYNEW'\n",
       "\\item 'COUNTRY\\_ISO3'\n",
       "\\item 'WGT'\n",
       "\\item 'FIELD\\_DATE'\n",
       "\\item 'YEAR\\_WAVE'\n",
       "\\item 'YEAR\\_CALENDAR'\n",
       "\\item 'ls'\n",
       "\\item 'hope'\n",
       "\\item 'smile'\n",
       "\\item 'enjoy'\n",
       "\\item 'worry'\n",
       "\\item 'sad'\n",
       "\\item 'stress'\n",
       "\\item 'anger'\n",
       "\\item 'pa'\n",
       "\\item 'na'\n",
       "\\end{enumerate*}\n"
      ],
      "text/markdown": [
       "1. 'COUNTRYNEW'\n",
       "2. 'COUNTRY_ISO3'\n",
       "3. 'WGT'\n",
       "4. 'FIELD_DATE'\n",
       "5. 'YEAR_WAVE'\n",
       "6. 'YEAR_CALENDAR'\n",
       "7. 'ls'\n",
       "8. 'hope'\n",
       "9. 'smile'\n",
       "10. 'enjoy'\n",
       "11. 'worry'\n",
       "12. 'sad'\n",
       "13. 'stress'\n",
       "14. 'anger'\n",
       "15. 'pa'\n",
       "16. 'na'\n",
       "\n",
       "\n"
      ],
      "text/plain": [
       " [1] \"COUNTRYNEW\"    \"COUNTRY_ISO3\"  \"WGT\"           \"FIELD_DATE\"   \n",
       " [5] \"YEAR_WAVE\"     \"YEAR_CALENDAR\" \"ls\"            \"hope\"         \n",
       " [9] \"smile\"         \"enjoy\"         \"worry\"         \"sad\"          \n",
       "[13] \"stress\"        \"anger\"         \"pa\"            \"na\"           "
      ]
     },
     "metadata": {},
     "output_type": "display_data"
    },
    {
     "data": {
      "text/html": [
       "<style>\n",
       ".list-inline {list-style: none; margin:0; padding: 0}\n",
       ".list-inline>li {display: inline-block}\n",
       ".list-inline>li:not(:last-child)::after {content: \"\\00b7\"; padding: 0 .5ex}\n",
       "</style>\n",
       "<ol class=list-inline><li>2450403</li><li>16</li></ol>\n"
      ],
      "text/latex": [
       "\\begin{enumerate*}\n",
       "\\item 2450403\n",
       "\\item 16\n",
       "\\end{enumerate*}\n"
      ],
      "text/markdown": [
       "1. 2450403\n",
       "2. 16\n",
       "\n",
       "\n"
      ],
      "text/plain": [
       "[1] 2450403      16"
      ]
     },
     "metadata": {},
     "output_type": "display_data"
    }
   ],
   "source": [
    "colnames(gallupAssas)\n",
    "dim(gallupAssas)"
   ]
  },
  {
   "cell_type": "code",
   "execution_count": null,
   "metadata": {},
   "outputs": [],
   "source": []
  }
 ],
 "metadata": {
  "kernelspec": {
   "display_name": "R 4.0.3",
   "language": "R",
   "name": "ir403"
  },
  "language_info": {
   "codemirror_mode": "r",
   "file_extension": ".r",
   "mimetype": "text/x-r-source",
   "name": "R",
   "pygments_lexer": "r",
   "version": "4.0.3"
  }
 },
 "nbformat": 4,
 "nbformat_minor": 4
}
