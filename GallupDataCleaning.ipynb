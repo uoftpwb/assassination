{
 "cells": [
  {
   "cell_type": "markdown",
   "metadata": {},
   "source": [
    "#### Install the useful packages."
   ]
  },
  {
   "cell_type": "code",
   "execution_count": 1,
   "metadata": {},
   "outputs": [
    {
     "data": {
      "text/html": [
       "<ol>\n",
       "\t<li><style>\n",
       ".list-inline {list-style: none; margin:0; padding: 0}\n",
       ".list-inline>li {display: inline-block}\n",
       ".list-inline>li:not(:last-child)::after {content: \"\\00b7\"; padding: 0 .5ex}\n",
       "</style>\n",
       "<ol class=list-inline><li>'easypackages'</li><li>'stats'</li><li>'graphics'</li><li>'grDevices'</li><li>'utils'</li><li>'datasets'</li><li>'methods'</li><li>'base'</li></ol>\n",
       "</li>\n",
       "</ol>\n"
      ],
      "text/latex": [
       "\\begin{enumerate}\n",
       "\\item \\begin{enumerate*}\n",
       "\\item 'easypackages'\n",
       "\\item 'stats'\n",
       "\\item 'graphics'\n",
       "\\item 'grDevices'\n",
       "\\item 'utils'\n",
       "\\item 'datasets'\n",
       "\\item 'methods'\n",
       "\\item 'base'\n",
       "\\end{enumerate*}\n",
       "\n",
       "\\end{enumerate}\n"
      ],
      "text/markdown": [
       "1. 1. 'easypackages'\n",
       "2. 'stats'\n",
       "3. 'graphics'\n",
       "4. 'grDevices'\n",
       "5. 'utils'\n",
       "6. 'datasets'\n",
       "7. 'methods'\n",
       "8. 'base'\n",
       "\n",
       "\n",
       "\n",
       "\n",
       "\n"
      ],
      "text/plain": [
       "[[1]]\n",
       "[1] \"easypackages\" \"stats\"        \"graphics\"     \"grDevices\"    \"utils\"       \n",
       "[6] \"datasets\"     \"methods\"      \"base\"        \n"
      ]
     },
     "metadata": {},
     "output_type": "display_data"
    },
    {
     "name": "stderr",
     "output_type": "stream",
     "text": [
      "Loading required package: dplyr\n",
      "\n",
      "\n",
      "Attaching package: ‘dplyr’\n",
      "\n",
      "\n",
      "The following objects are masked from ‘package:stats’:\n",
      "\n",
      "    filter, lag\n",
      "\n",
      "\n",
      "The following objects are masked from ‘package:base’:\n",
      "\n",
      "    intersect, setdiff, setequal, union\n",
      "\n",
      "\n",
      "Loading required package: tidyr\n",
      "\n",
      "All packages loaded successfully\n",
      "\n"
     ]
    }
   ],
   "source": [
    "myPackages <- c(\"easypackages\")\n",
    "#the argument `lib.loc = \"~/rlib\"` is used because the packages were installed in this folder in my case\n",
    "lapply(myPackages, library, lib.loc = \"~/rlib\", character.only = TRUE) \n",
    "libraries(\"dplyr\", \"tidyr\")"
   ]
  },
  {
   "cell_type": "markdown",
   "metadata": {},
   "source": [
    "#### Import the gallup data that contain every country."
   ]
  },
  {
   "cell_type": "code",
   "execution_count": 2,
   "metadata": {},
   "outputs": [
    {
     "name": "stderr",
     "output_type": "stream",
     "text": [
      "Ambiguous file format ('.dat'), but attempting 'data.table::fread(\"~/gallup data/The_Gallup_042722.dat\")'\n",
      "\n"
     ]
    }
   ],
   "source": [
    "gallupRaw <- rio::import(\"~/gallup data/The_Gallup_042722.dat\")"
   ]
  },
  {
   "cell_type": "markdown",
   "metadata": {},
   "source": [
    "We need country name, country code, weight, survey date, survey year, ls, hope, PA, NA\n",
    "\n",
    "Filter the data and save the it for future use."
   ]
  },
  {
   "cell_type": "code",
   "execution_count": 6,
   "metadata": {},
   "outputs": [],
   "source": [
    "gallupExtracted <- gallupRaw %>% select(COUNTRYNEW, COUNTRY_ISO3, WGT, \n",
    "                                        FIELD_DATE, WP4.INTERVIEWDATE = WP4, YEAR_WAVE, \n",
    "                                        YEAR_CALENDAR, ls = WP16, hope = WP18, \n",
    "                                        smile = WP63, enjoy = WP67, worry = WP69, \n",
    "                                        sad = WP70, stress = WP71, anger = WP74,\n",
    "                                        WP1219.MALE = WP1219, WP1220.AGE = WP1220, EMP_2010,\n",
    "                                        WP1223.MARITAL = WP1223)\n",
    "write.csv(gallupExtracted, \"gallupExtracted.csv\", row.names = FALSE)"
   ]
  },
  {
   "cell_type": "code",
   "execution_count": 7,
   "metadata": {},
   "outputs": [
    {
     "data": {
      "text/html": [
       "<style>\n",
       ".list-inline {list-style: none; margin:0; padding: 0}\n",
       ".list-inline>li {display: inline-block}\n",
       ".list-inline>li:not(:last-child)::after {content: \"\\00b7\"; padding: 0 .5ex}\n",
       "</style>\n",
       "<ol class=list-inline><li>'COUNTRYNEW'</li><li>'COUNTRY_ISO3'</li><li>'WGT'</li><li>'FIELD_DATE'</li><li>'WP4.INTERVIEWDATE'</li><li>'YEAR_WAVE'</li><li>'YEAR_CALENDAR'</li><li>'ls'</li><li>'hope'</li><li>'smile'</li><li>'enjoy'</li><li>'worry'</li><li>'sad'</li><li>'stress'</li><li>'anger'</li><li>'WP1219.MALE'</li><li>'WP1220.AGE'</li><li>'EMP_2010'</li><li>'WP1223.MARITAL'</li></ol>\n"
      ],
      "text/latex": [
       "\\begin{enumerate*}\n",
       "\\item 'COUNTRYNEW'\n",
       "\\item 'COUNTRY\\_ISO3'\n",
       "\\item 'WGT'\n",
       "\\item 'FIELD\\_DATE'\n",
       "\\item 'WP4.INTERVIEWDATE'\n",
       "\\item 'YEAR\\_WAVE'\n",
       "\\item 'YEAR\\_CALENDAR'\n",
       "\\item 'ls'\n",
       "\\item 'hope'\n",
       "\\item 'smile'\n",
       "\\item 'enjoy'\n",
       "\\item 'worry'\n",
       "\\item 'sad'\n",
       "\\item 'stress'\n",
       "\\item 'anger'\n",
       "\\item 'WP1219.MALE'\n",
       "\\item 'WP1220.AGE'\n",
       "\\item 'EMP\\_2010'\n",
       "\\item 'WP1223.MARITAL'\n",
       "\\end{enumerate*}\n"
      ],
      "text/markdown": [
       "1. 'COUNTRYNEW'\n",
       "2. 'COUNTRY_ISO3'\n",
       "3. 'WGT'\n",
       "4. 'FIELD_DATE'\n",
       "5. 'WP4.INTERVIEWDATE'\n",
       "6. 'YEAR_WAVE'\n",
       "7. 'YEAR_CALENDAR'\n",
       "8. 'ls'\n",
       "9. 'hope'\n",
       "10. 'smile'\n",
       "11. 'enjoy'\n",
       "12. 'worry'\n",
       "13. 'sad'\n",
       "14. 'stress'\n",
       "15. 'anger'\n",
       "16. 'WP1219.MALE'\n",
       "17. 'WP1220.AGE'\n",
       "18. 'EMP_2010'\n",
       "19. 'WP1223.MARITAL'\n",
       "\n",
       "\n"
      ],
      "text/plain": [
       " [1] \"COUNTRYNEW\"        \"COUNTRY_ISO3\"      \"WGT\"              \n",
       " [4] \"FIELD_DATE\"        \"WP4.INTERVIEWDATE\" \"YEAR_WAVE\"        \n",
       " [7] \"YEAR_CALENDAR\"     \"ls\"                \"hope\"             \n",
       "[10] \"smile\"             \"enjoy\"             \"worry\"            \n",
       "[13] \"sad\"               \"stress\"            \"anger\"            \n",
       "[16] \"WP1219.MALE\"       \"WP1220.AGE\"        \"EMP_2010\"         \n",
       "[19] \"WP1223.MARITAL\"   "
      ]
     },
     "metadata": {},
     "output_type": "display_data"
    },
    {
     "data": {
      "text/html": [
       "<table class=\"dataframe\">\n",
       "<caption>A data.frame: 6 × 19</caption>\n",
       "<thead>\n",
       "\t<tr><th></th><th scope=col>COUNTRYNEW</th><th scope=col>COUNTRY_ISO3</th><th scope=col>WGT</th><th scope=col>FIELD_DATE</th><th scope=col>WP4.INTERVIEWDATE</th><th scope=col>YEAR_WAVE</th><th scope=col>YEAR_CALENDAR</th><th scope=col>ls</th><th scope=col>hope</th><th scope=col>smile</th><th scope=col>enjoy</th><th scope=col>worry</th><th scope=col>sad</th><th scope=col>stress</th><th scope=col>anger</th><th scope=col>WP1219.MALE</th><th scope=col>WP1220.AGE</th><th scope=col>EMP_2010</th><th scope=col>WP1223.MARITAL</th></tr>\n",
       "\t<tr><th></th><th scope=col>&lt;chr&gt;</th><th scope=col>&lt;chr&gt;</th><th scope=col>&lt;dbl&gt;</th><th scope=col>&lt;chr&gt;</th><th scope=col>&lt;chr&gt;</th><th scope=col>&lt;int&gt;</th><th scope=col>&lt;int&gt;</th><th scope=col>&lt;int&gt;</th><th scope=col>&lt;int&gt;</th><th scope=col>&lt;int&gt;</th><th scope=col>&lt;int&gt;</th><th scope=col>&lt;int&gt;</th><th scope=col>&lt;int&gt;</th><th scope=col>&lt;int&gt;</th><th scope=col>&lt;int&gt;</th><th scope=col>&lt;int&gt;</th><th scope=col>&lt;dbl&gt;</th><th scope=col>&lt;int&gt;</th><th scope=col>&lt;int&gt;</th></tr>\n",
       "</thead>\n",
       "<tbody>\n",
       "\t<tr><th scope=row>1</th><td>United States</td><td>USA</td><td>0.6689163</td><td>7/1/2006</td><td></td><td>2006</td><td>2006</td><td> 6</td><td> 8</td><td>1</td><td>1</td><td>2</td><td>2</td><td>2</td><td>2</td><td>2</td><td>47</td><td>NA</td><td>2</td></tr>\n",
       "\t<tr><th scope=row>2</th><td>United States</td><td>USA</td><td>0.1966555</td><td>7/1/2006</td><td></td><td>2006</td><td>2006</td><td> 8</td><td>98</td><td>1</td><td>1</td><td>2</td><td>2</td><td>2</td><td>2</td><td>2</td><td>67</td><td>NA</td><td>5</td></tr>\n",
       "\t<tr><th scope=row>3</th><td>United States</td><td>USA</td><td>1.3032635</td><td>7/1/2006</td><td></td><td>2006</td><td>2006</td><td> 8</td><td> 8</td><td>1</td><td>1</td><td>1</td><td>2</td><td>1</td><td>2</td><td>1</td><td>62</td><td>NA</td><td>2</td></tr>\n",
       "\t<tr><th scope=row>4</th><td>United States</td><td>USA</td><td>0.6359364</td><td>7/1/2006</td><td></td><td>2006</td><td>2006</td><td> 8</td><td> 8</td><td>1</td><td>1</td><td>2</td><td>2</td><td>2</td><td>2</td><td>1</td><td>82</td><td>NA</td><td>5</td></tr>\n",
       "\t<tr><th scope=row>5</th><td>United States</td><td>USA</td><td>0.7358092</td><td>7/1/2006</td><td></td><td>2006</td><td>2006</td><td>10</td><td>10</td><td>1</td><td>1</td><td>2</td><td>2</td><td>2</td><td>2</td><td>2</td><td>62</td><td>NA</td><td>2</td></tr>\n",
       "\t<tr><th scope=row>6</th><td>United States</td><td>USA</td><td>1.7369582</td><td>7/1/2006</td><td></td><td>2006</td><td>2006</td><td> 5</td><td>10</td><td>1</td><td>1</td><td>1</td><td>1</td><td>1</td><td>1</td><td>2</td><td>32</td><td>NA</td><td>2</td></tr>\n",
       "</tbody>\n",
       "</table>\n"
      ],
      "text/latex": [
       "A data.frame: 6 × 19\n",
       "\\begin{tabular}{r|lllllllllllllllllll}\n",
       "  & COUNTRYNEW & COUNTRY\\_ISO3 & WGT & FIELD\\_DATE & WP4.INTERVIEWDATE & YEAR\\_WAVE & YEAR\\_CALENDAR & ls & hope & smile & enjoy & worry & sad & stress & anger & WP1219.MALE & WP1220.AGE & EMP\\_2010 & WP1223.MARITAL\\\\\n",
       "  & <chr> & <chr> & <dbl> & <chr> & <chr> & <int> & <int> & <int> & <int> & <int> & <int> & <int> & <int> & <int> & <int> & <int> & <dbl> & <int> & <int>\\\\\n",
       "\\hline\n",
       "\t1 & United States & USA & 0.6689163 & 7/1/2006 &  & 2006 & 2006 &  6 &  8 & 1 & 1 & 2 & 2 & 2 & 2 & 2 & 47 & NA & 2\\\\\n",
       "\t2 & United States & USA & 0.1966555 & 7/1/2006 &  & 2006 & 2006 &  8 & 98 & 1 & 1 & 2 & 2 & 2 & 2 & 2 & 67 & NA & 5\\\\\n",
       "\t3 & United States & USA & 1.3032635 & 7/1/2006 &  & 2006 & 2006 &  8 &  8 & 1 & 1 & 1 & 2 & 1 & 2 & 1 & 62 & NA & 2\\\\\n",
       "\t4 & United States & USA & 0.6359364 & 7/1/2006 &  & 2006 & 2006 &  8 &  8 & 1 & 1 & 2 & 2 & 2 & 2 & 1 & 82 & NA & 5\\\\\n",
       "\t5 & United States & USA & 0.7358092 & 7/1/2006 &  & 2006 & 2006 & 10 & 10 & 1 & 1 & 2 & 2 & 2 & 2 & 2 & 62 & NA & 2\\\\\n",
       "\t6 & United States & USA & 1.7369582 & 7/1/2006 &  & 2006 & 2006 &  5 & 10 & 1 & 1 & 1 & 1 & 1 & 1 & 2 & 32 & NA & 2\\\\\n",
       "\\end{tabular}\n"
      ],
      "text/markdown": [
       "\n",
       "A data.frame: 6 × 19\n",
       "\n",
       "| <!--/--> | COUNTRYNEW &lt;chr&gt; | COUNTRY_ISO3 &lt;chr&gt; | WGT &lt;dbl&gt; | FIELD_DATE &lt;chr&gt; | WP4.INTERVIEWDATE &lt;chr&gt; | YEAR_WAVE &lt;int&gt; | YEAR_CALENDAR &lt;int&gt; | ls &lt;int&gt; | hope &lt;int&gt; | smile &lt;int&gt; | enjoy &lt;int&gt; | worry &lt;int&gt; | sad &lt;int&gt; | stress &lt;int&gt; | anger &lt;int&gt; | WP1219.MALE &lt;int&gt; | WP1220.AGE &lt;dbl&gt; | EMP_2010 &lt;int&gt; | WP1223.MARITAL &lt;int&gt; |\n",
       "|---|---|---|---|---|---|---|---|---|---|---|---|---|---|---|---|---|---|---|---|\n",
       "| 1 | United States | USA | 0.6689163 | 7/1/2006 | <!----> | 2006 | 2006 |  6 |  8 | 1 | 1 | 2 | 2 | 2 | 2 | 2 | 47 | NA | 2 |\n",
       "| 2 | United States | USA | 0.1966555 | 7/1/2006 | <!----> | 2006 | 2006 |  8 | 98 | 1 | 1 | 2 | 2 | 2 | 2 | 2 | 67 | NA | 5 |\n",
       "| 3 | United States | USA | 1.3032635 | 7/1/2006 | <!----> | 2006 | 2006 |  8 |  8 | 1 | 1 | 1 | 2 | 1 | 2 | 1 | 62 | NA | 2 |\n",
       "| 4 | United States | USA | 0.6359364 | 7/1/2006 | <!----> | 2006 | 2006 |  8 |  8 | 1 | 1 | 2 | 2 | 2 | 2 | 1 | 82 | NA | 5 |\n",
       "| 5 | United States | USA | 0.7358092 | 7/1/2006 | <!----> | 2006 | 2006 | 10 | 10 | 1 | 1 | 2 | 2 | 2 | 2 | 2 | 62 | NA | 2 |\n",
       "| 6 | United States | USA | 1.7369582 | 7/1/2006 | <!----> | 2006 | 2006 |  5 | 10 | 1 | 1 | 1 | 1 | 1 | 1 | 2 | 32 | NA | 2 |\n",
       "\n"
      ],
      "text/plain": [
       "  COUNTRYNEW    COUNTRY_ISO3 WGT       FIELD_DATE WP4.INTERVIEWDATE YEAR_WAVE\n",
       "1 United States USA          0.6689163 7/1/2006                     2006     \n",
       "2 United States USA          0.1966555 7/1/2006                     2006     \n",
       "3 United States USA          1.3032635 7/1/2006                     2006     \n",
       "4 United States USA          0.6359364 7/1/2006                     2006     \n",
       "5 United States USA          0.7358092 7/1/2006                     2006     \n",
       "6 United States USA          1.7369582 7/1/2006                     2006     \n",
       "  YEAR_CALENDAR ls hope smile enjoy worry sad stress anger WP1219.MALE\n",
       "1 2006           6  8   1     1     2     2   2      2     2          \n",
       "2 2006           8 98   1     1     2     2   2      2     2          \n",
       "3 2006           8  8   1     1     1     2   1      2     1          \n",
       "4 2006           8  8   1     1     2     2   2      2     1          \n",
       "5 2006          10 10   1     1     2     2   2      2     2          \n",
       "6 2006           5 10   1     1     1     1   1      1     2          \n",
       "  WP1220.AGE EMP_2010 WP1223.MARITAL\n",
       "1 47         NA       2             \n",
       "2 67         NA       5             \n",
       "3 62         NA       2             \n",
       "4 82         NA       5             \n",
       "5 62         NA       2             \n",
       "6 32         NA       2             "
      ]
     },
     "metadata": {},
     "output_type": "display_data"
    },
    {
     "data": {
      "text/html": [
       "<style>\n",
       ".list-inline {list-style: none; margin:0; padding: 0}\n",
       ".list-inline>li {display: inline-block}\n",
       ".list-inline>li:not(:last-child)::after {content: \"\\00b7\"; padding: 0 .5ex}\n",
       "</style>\n",
       "<ol class=list-inline><li>2450403</li><li>19</li></ol>\n"
      ],
      "text/latex": [
       "\\begin{enumerate*}\n",
       "\\item 2450403\n",
       "\\item 19\n",
       "\\end{enumerate*}\n"
      ],
      "text/markdown": [
       "1. 2450403\n",
       "2. 19\n",
       "\n",
       "\n"
      ],
      "text/plain": [
       "[1] 2450403      19"
      ]
     },
     "metadata": {},
     "output_type": "display_data"
    }
   ],
   "source": [
    "gallupExtracted <- rio::import(\"gallupExtracted.csv\")\n",
    "colnames(gallupExtracted)\n",
    "head(gallupExtracted)\n",
    "dim(gallupExtracted)"
   ]
  },
  {
   "cell_type": "markdown",
   "metadata": {},
   "source": [
    "Create a function for changing the \"DK\" / \"Refused\" response to NA."
   ]
  },
  {
   "cell_type": "code",
   "execution_count": 5,
   "metadata": {},
   "outputs": [],
   "source": [
    "na_codes <- function(x, ...) {\n",
    "    for(y in list(...))\n",
    "        x[x == y] <- NA\n",
    "    x\n",
    "}"
   ]
  },
  {
   "cell_type": "markdown",
   "metadata": {},
   "source": [
    "Change the \"DK\" / \"Refused\" response to NA\n",
    "\n",
    "Change WP1219.MALE from [1 Male, 2 Female] to [1 Yes, 0 No]\n",
    "\n",
    "Change the responses to SWB from [1 Yes, 2 No] to [1 Yes, 0 No] for getting the means for individual positive affect and negative affect"
   ]
  },
  {
   "cell_type": "code",
   "execution_count": 9,
   "metadata": {},
   "outputs": [
    {
     "data": {
      "text/html": [
       "<table class=\"dataframe\">\n",
       "<caption>A tibble: 6 × 21</caption>\n",
       "<thead>\n",
       "\t<tr><th scope=col>COUNTRYNEW</th><th scope=col>COUNTRY_ISO3</th><th scope=col>WGT</th><th scope=col>FIELD_DATE</th><th scope=col>WP4.INTERVIEWDATE</th><th scope=col>YEAR_WAVE</th><th scope=col>YEAR_CALENDAR</th><th scope=col>ls</th><th scope=col>hope</th><th scope=col>smile</th><th scope=col>⋯</th><th scope=col>worry</th><th scope=col>sad</th><th scope=col>stress</th><th scope=col>anger</th><th scope=col>WP1219.MALE</th><th scope=col>WP1220.AGE</th><th scope=col>EMP_2010</th><th scope=col>WP1223.MARITAL</th><th scope=col>pa</th><th scope=col>na</th></tr>\n",
       "\t<tr><th scope=col>&lt;chr&gt;</th><th scope=col>&lt;chr&gt;</th><th scope=col>&lt;dbl&gt;</th><th scope=col>&lt;chr&gt;</th><th scope=col>&lt;chr&gt;</th><th scope=col>&lt;int&gt;</th><th scope=col>&lt;int&gt;</th><th scope=col>&lt;int&gt;</th><th scope=col>&lt;int&gt;</th><th scope=col>&lt;dbl&gt;</th><th scope=col>⋯</th><th scope=col>&lt;dbl&gt;</th><th scope=col>&lt;dbl&gt;</th><th scope=col>&lt;dbl&gt;</th><th scope=col>&lt;dbl&gt;</th><th scope=col>&lt;dbl&gt;</th><th scope=col>&lt;dbl&gt;</th><th scope=col>&lt;int&gt;</th><th scope=col>&lt;int&gt;</th><th scope=col>&lt;dbl&gt;</th><th scope=col>&lt;dbl&gt;</th></tr>\n",
       "</thead>\n",
       "<tbody>\n",
       "\t<tr><td>United States</td><td>USA</td><td>0.6689163</td><td>7/1/2006</td><td>NA</td><td>2006</td><td>2006</td><td> 6</td><td> 8</td><td>1</td><td>⋯</td><td>0</td><td>0</td><td>0</td><td>0</td><td>0</td><td>47</td><td>NA</td><td>2</td><td>1</td><td>0.0</td></tr>\n",
       "\t<tr><td>United States</td><td>USA</td><td>0.1966555</td><td>7/1/2006</td><td>NA</td><td>2006</td><td>2006</td><td> 8</td><td>NA</td><td>1</td><td>⋯</td><td>0</td><td>0</td><td>0</td><td>0</td><td>0</td><td>67</td><td>NA</td><td>5</td><td>1</td><td>0.0</td></tr>\n",
       "\t<tr><td>United States</td><td>USA</td><td>1.3032635</td><td>7/1/2006</td><td>NA</td><td>2006</td><td>2006</td><td> 8</td><td> 8</td><td>1</td><td>⋯</td><td>1</td><td>0</td><td>1</td><td>0</td><td>1</td><td>62</td><td>NA</td><td>2</td><td>1</td><td>0.5</td></tr>\n",
       "\t<tr><td>United States</td><td>USA</td><td>0.6359364</td><td>7/1/2006</td><td>NA</td><td>2006</td><td>2006</td><td> 8</td><td> 8</td><td>1</td><td>⋯</td><td>0</td><td>0</td><td>0</td><td>0</td><td>1</td><td>82</td><td>NA</td><td>5</td><td>1</td><td>0.0</td></tr>\n",
       "\t<tr><td>United States</td><td>USA</td><td>0.7358092</td><td>7/1/2006</td><td>NA</td><td>2006</td><td>2006</td><td>10</td><td>10</td><td>1</td><td>⋯</td><td>0</td><td>0</td><td>0</td><td>0</td><td>0</td><td>62</td><td>NA</td><td>2</td><td>1</td><td>0.0</td></tr>\n",
       "\t<tr><td>United States</td><td>USA</td><td>1.7369582</td><td>7/1/2006</td><td>NA</td><td>2006</td><td>2006</td><td> 5</td><td>10</td><td>1</td><td>⋯</td><td>1</td><td>1</td><td>1</td><td>1</td><td>0</td><td>32</td><td>NA</td><td>2</td><td>1</td><td>1.0</td></tr>\n",
       "</tbody>\n",
       "</table>\n"
      ],
      "text/latex": [
       "A tibble: 6 × 21\n",
       "\\begin{tabular}{lllllllllllllllllllll}\n",
       " COUNTRYNEW & COUNTRY\\_ISO3 & WGT & FIELD\\_DATE & WP4.INTERVIEWDATE & YEAR\\_WAVE & YEAR\\_CALENDAR & ls & hope & smile & ⋯ & worry & sad & stress & anger & WP1219.MALE & WP1220.AGE & EMP\\_2010 & WP1223.MARITAL & pa & na\\\\\n",
       " <chr> & <chr> & <dbl> & <chr> & <chr> & <int> & <int> & <int> & <int> & <dbl> & ⋯ & <dbl> & <dbl> & <dbl> & <dbl> & <dbl> & <dbl> & <int> & <int> & <dbl> & <dbl>\\\\\n",
       "\\hline\n",
       "\t United States & USA & 0.6689163 & 7/1/2006 & NA & 2006 & 2006 &  6 &  8 & 1 & ⋯ & 0 & 0 & 0 & 0 & 0 & 47 & NA & 2 & 1 & 0.0\\\\\n",
       "\t United States & USA & 0.1966555 & 7/1/2006 & NA & 2006 & 2006 &  8 & NA & 1 & ⋯ & 0 & 0 & 0 & 0 & 0 & 67 & NA & 5 & 1 & 0.0\\\\\n",
       "\t United States & USA & 1.3032635 & 7/1/2006 & NA & 2006 & 2006 &  8 &  8 & 1 & ⋯ & 1 & 0 & 1 & 0 & 1 & 62 & NA & 2 & 1 & 0.5\\\\\n",
       "\t United States & USA & 0.6359364 & 7/1/2006 & NA & 2006 & 2006 &  8 &  8 & 1 & ⋯ & 0 & 0 & 0 & 0 & 1 & 82 & NA & 5 & 1 & 0.0\\\\\n",
       "\t United States & USA & 0.7358092 & 7/1/2006 & NA & 2006 & 2006 & 10 & 10 & 1 & ⋯ & 0 & 0 & 0 & 0 & 0 & 62 & NA & 2 & 1 & 0.0\\\\\n",
       "\t United States & USA & 1.7369582 & 7/1/2006 & NA & 2006 & 2006 &  5 & 10 & 1 & ⋯ & 1 & 1 & 1 & 1 & 0 & 32 & NA & 2 & 1 & 1.0\\\\\n",
       "\\end{tabular}\n"
      ],
      "text/markdown": [
       "\n",
       "A tibble: 6 × 21\n",
       "\n",
       "| COUNTRYNEW &lt;chr&gt; | COUNTRY_ISO3 &lt;chr&gt; | WGT &lt;dbl&gt; | FIELD_DATE &lt;chr&gt; | WP4.INTERVIEWDATE &lt;chr&gt; | YEAR_WAVE &lt;int&gt; | YEAR_CALENDAR &lt;int&gt; | ls &lt;int&gt; | hope &lt;int&gt; | smile &lt;dbl&gt; | ⋯ ⋯ | worry &lt;dbl&gt; | sad &lt;dbl&gt; | stress &lt;dbl&gt; | anger &lt;dbl&gt; | WP1219.MALE &lt;dbl&gt; | WP1220.AGE &lt;dbl&gt; | EMP_2010 &lt;int&gt; | WP1223.MARITAL &lt;int&gt; | pa &lt;dbl&gt; | na &lt;dbl&gt; |\n",
       "|---|---|---|---|---|---|---|---|---|---|---|---|---|---|---|---|---|---|---|---|---|\n",
       "| United States | USA | 0.6689163 | 7/1/2006 | NA | 2006 | 2006 |  6 |  8 | 1 | ⋯ | 0 | 0 | 0 | 0 | 0 | 47 | NA | 2 | 1 | 0.0 |\n",
       "| United States | USA | 0.1966555 | 7/1/2006 | NA | 2006 | 2006 |  8 | NA | 1 | ⋯ | 0 | 0 | 0 | 0 | 0 | 67 | NA | 5 | 1 | 0.0 |\n",
       "| United States | USA | 1.3032635 | 7/1/2006 | NA | 2006 | 2006 |  8 |  8 | 1 | ⋯ | 1 | 0 | 1 | 0 | 1 | 62 | NA | 2 | 1 | 0.5 |\n",
       "| United States | USA | 0.6359364 | 7/1/2006 | NA | 2006 | 2006 |  8 |  8 | 1 | ⋯ | 0 | 0 | 0 | 0 | 1 | 82 | NA | 5 | 1 | 0.0 |\n",
       "| United States | USA | 0.7358092 | 7/1/2006 | NA | 2006 | 2006 | 10 | 10 | 1 | ⋯ | 0 | 0 | 0 | 0 | 0 | 62 | NA | 2 | 1 | 0.0 |\n",
       "| United States | USA | 1.7369582 | 7/1/2006 | NA | 2006 | 2006 |  5 | 10 | 1 | ⋯ | 1 | 1 | 1 | 1 | 0 | 32 | NA | 2 | 1 | 1.0 |\n",
       "\n"
      ],
      "text/plain": [
       "  COUNTRYNEW    COUNTRY_ISO3 WGT       FIELD_DATE WP4.INTERVIEWDATE YEAR_WAVE\n",
       "1 United States USA          0.6689163 7/1/2006   NA                2006     \n",
       "2 United States USA          0.1966555 7/1/2006   NA                2006     \n",
       "3 United States USA          1.3032635 7/1/2006   NA                2006     \n",
       "4 United States USA          0.6359364 7/1/2006   NA                2006     \n",
       "5 United States USA          0.7358092 7/1/2006   NA                2006     \n",
       "6 United States USA          1.7369582 7/1/2006   NA                2006     \n",
       "  YEAR_CALENDAR ls hope smile ⋯ worry sad stress anger WP1219.MALE WP1220.AGE\n",
       "1 2006           6  8   1     ⋯ 0     0   0      0     0           47        \n",
       "2 2006           8 NA   1     ⋯ 0     0   0      0     0           67        \n",
       "3 2006           8  8   1     ⋯ 1     0   1      0     1           62        \n",
       "4 2006           8  8   1     ⋯ 0     0   0      0     1           82        \n",
       "5 2006          10 10   1     ⋯ 0     0   0      0     0           62        \n",
       "6 2006           5 10   1     ⋯ 1     1   1      1     0           32        \n",
       "  EMP_2010 WP1223.MARITAL pa na \n",
       "1 NA       2              1  0.0\n",
       "2 NA       5              1  0.0\n",
       "3 NA       2              1  0.5\n",
       "4 NA       5              1  0.0\n",
       "5 NA       2              1  0.0\n",
       "6 NA       2              1  1.0"
      ]
     },
     "metadata": {},
     "output_type": "display_data"
    }
   ],
   "source": [
    "gallupAssas <- gallupExtracted\n",
    "\n",
    "gallupAssas$WP1220.AGE <-  na_codes(gallupAssas$WP1220.AGE, 100)\n",
    "gallupAssas$WP1223.MARITAL <-  na_codes(gallupAssas$WP1223.MARITAL, 6,7)\n",
    "\n",
    "#WP1219.MALE\n",
    "gallupAssas$WP1219.MALE <- 2 - gallupAssas$WP1219.MALE\n",
    "\n",
    "#convert empty WP4.INTERVIEWDATE to NA\n",
    "gallupAssas <- gallupAssas %>% mutate(WP4.INTERVIEWDATE = na_if(WP4.INTERVIEWDATE, \"\")) \n",
    "#life satisfication\n",
    "gallupAssas$ls <- na_codes(gallupAssas$ls, 98, 99)\n",
    "#hope\n",
    "gallupAssas$hope <- na_codes(gallupAssas$hope, 98, 99)\n",
    "#pa and #na\n",
    "gallupAssas$smile <- 2 - na_codes(gallupAssas$smile, 3, 4)\n",
    "gallupAssas$enjoy <- 2 - na_codes(gallupAssas$enjoy, 3, 4)\n",
    "gallupAssas$worry <- 2 - na_codes(gallupAssas$worry, 3, 4)\n",
    "gallupAssas$sad <- 2 - na_codes(gallupAssas$sad, 3, 4)\n",
    "gallupAssas$stress <- 2 - na_codes(gallupAssas$stress, 3, 4)\n",
    "gallupAssas$anger <- 2 - na_codes(gallupAssas$anger, 3, 4)\n",
    "gallupAssas <- gallupAssas %>% \n",
    " rowwise() %>% \n",
    " mutate(pa = mean(cbind(enjoy, smile), na.rm=TRUE),\n",
    "        na = mean(cbind(worry, sad, stress, anger), na.rm=TRUE)) %>% ungroup\n",
    "head(gallupAssas)"
   ]
  },
  {
   "cell_type": "code",
   "execution_count": 11,
   "metadata": {},
   "outputs": [],
   "source": [
    "write.csv(gallupAssas, \"gallupAssas.csv\")"
   ]
  },
  {
   "cell_type": "code",
   "execution_count": 12,
   "metadata": {},
   "outputs": [
    {
     "data": {
      "text/html": [
       "<style>\n",
       ".list-inline {list-style: none; margin:0; padding: 0}\n",
       ".list-inline>li {display: inline-block}\n",
       ".list-inline>li:not(:last-child)::after {content: \"\\00b7\"; padding: 0 .5ex}\n",
       "</style>\n",
       "<ol class=list-inline><li>'COUNTRYNEW'</li><li>'COUNTRY_ISO3'</li><li>'WGT'</li><li>'FIELD_DATE'</li><li>'WP4.INTERVIEWDATE'</li><li>'YEAR_WAVE'</li><li>'YEAR_CALENDAR'</li><li>'ls'</li><li>'hope'</li><li>'smile'</li><li>'enjoy'</li><li>'worry'</li><li>'sad'</li><li>'stress'</li><li>'anger'</li><li>'WP1219.MALE'</li><li>'WP1220.AGE'</li><li>'EMP_2010'</li><li>'WP1223.MARITAL'</li><li>'pa'</li><li>'na'</li></ol>\n"
      ],
      "text/latex": [
       "\\begin{enumerate*}\n",
       "\\item 'COUNTRYNEW'\n",
       "\\item 'COUNTRY\\_ISO3'\n",
       "\\item 'WGT'\n",
       "\\item 'FIELD\\_DATE'\n",
       "\\item 'WP4.INTERVIEWDATE'\n",
       "\\item 'YEAR\\_WAVE'\n",
       "\\item 'YEAR\\_CALENDAR'\n",
       "\\item 'ls'\n",
       "\\item 'hope'\n",
       "\\item 'smile'\n",
       "\\item 'enjoy'\n",
       "\\item 'worry'\n",
       "\\item 'sad'\n",
       "\\item 'stress'\n",
       "\\item 'anger'\n",
       "\\item 'WP1219.MALE'\n",
       "\\item 'WP1220.AGE'\n",
       "\\item 'EMP\\_2010'\n",
       "\\item 'WP1223.MARITAL'\n",
       "\\item 'pa'\n",
       "\\item 'na'\n",
       "\\end{enumerate*}\n"
      ],
      "text/markdown": [
       "1. 'COUNTRYNEW'\n",
       "2. 'COUNTRY_ISO3'\n",
       "3. 'WGT'\n",
       "4. 'FIELD_DATE'\n",
       "5. 'WP4.INTERVIEWDATE'\n",
       "6. 'YEAR_WAVE'\n",
       "7. 'YEAR_CALENDAR'\n",
       "8. 'ls'\n",
       "9. 'hope'\n",
       "10. 'smile'\n",
       "11. 'enjoy'\n",
       "12. 'worry'\n",
       "13. 'sad'\n",
       "14. 'stress'\n",
       "15. 'anger'\n",
       "16. 'WP1219.MALE'\n",
       "17. 'WP1220.AGE'\n",
       "18. 'EMP_2010'\n",
       "19. 'WP1223.MARITAL'\n",
       "20. 'pa'\n",
       "21. 'na'\n",
       "\n",
       "\n"
      ],
      "text/plain": [
       " [1] \"COUNTRYNEW\"        \"COUNTRY_ISO3\"      \"WGT\"              \n",
       " [4] \"FIELD_DATE\"        \"WP4.INTERVIEWDATE\" \"YEAR_WAVE\"        \n",
       " [7] \"YEAR_CALENDAR\"     \"ls\"                \"hope\"             \n",
       "[10] \"smile\"             \"enjoy\"             \"worry\"            \n",
       "[13] \"sad\"               \"stress\"            \"anger\"            \n",
       "[16] \"WP1219.MALE\"       \"WP1220.AGE\"        \"EMP_2010\"         \n",
       "[19] \"WP1223.MARITAL\"    \"pa\"                \"na\"               "
      ]
     },
     "metadata": {},
     "output_type": "display_data"
    },
    {
     "data": {
      "text/html": [
       "<style>\n",
       ".list-inline {list-style: none; margin:0; padding: 0}\n",
       ".list-inline>li {display: inline-block}\n",
       ".list-inline>li:not(:last-child)::after {content: \"\\00b7\"; padding: 0 .5ex}\n",
       "</style>\n",
       "<ol class=list-inline><li>2450403</li><li>21</li></ol>\n"
      ],
      "text/latex": [
       "\\begin{enumerate*}\n",
       "\\item 2450403\n",
       "\\item 21\n",
       "\\end{enumerate*}\n"
      ],
      "text/markdown": [
       "1. 2450403\n",
       "2. 21\n",
       "\n",
       "\n"
      ],
      "text/plain": [
       "[1] 2450403      21"
      ]
     },
     "metadata": {},
     "output_type": "display_data"
    }
   ],
   "source": [
    "colnames(gallupAssas)\n",
    "dim(gallupAssas)"
   ]
  }
 ],
 "metadata": {
  "kernelspec": {
   "display_name": "R 4.0.3",
   "language": "R",
   "name": "ir403"
  },
  "language_info": {
   "codemirror_mode": "r",
   "file_extension": ".r",
   "mimetype": "text/x-r-source",
   "name": "R",
   "pygments_lexer": "r",
   "version": "4.0.3"
  }
 },
 "nbformat": 4,
 "nbformat_minor": 4
}
