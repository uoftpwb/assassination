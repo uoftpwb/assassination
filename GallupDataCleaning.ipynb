{
 "cells": [
  {
   "cell_type": "markdown",
   "metadata": {},
   "source": [
    "#### Install the useful packages."
   ]
  },
  {
   "cell_type": "code",
   "execution_count": 4,
   "metadata": {},
   "outputs": [
    {
     "data": {
      "text/html": [
       "<ol>\n",
       "\t<li><style>\n",
       ".list-inline {list-style: none; margin:0; padding: 0}\n",
       ".list-inline>li {display: inline-block}\n",
       ".list-inline>li:not(:last-child)::after {content: \"\\00b7\"; padding: 0 .5ex}\n",
       "</style>\n",
       "<ol class=list-inline><li>'easypackages'</li><li>'stats'</li><li>'graphics'</li><li>'grDevices'</li><li>'utils'</li><li>'datasets'</li><li>'methods'</li><li>'base'</li></ol>\n",
       "</li>\n",
       "</ol>\n"
      ],
      "text/latex": [
       "\\begin{enumerate}\n",
       "\\item \\begin{enumerate*}\n",
       "\\item 'easypackages'\n",
       "\\item 'stats'\n",
       "\\item 'graphics'\n",
       "\\item 'grDevices'\n",
       "\\item 'utils'\n",
       "\\item 'datasets'\n",
       "\\item 'methods'\n",
       "\\item 'base'\n",
       "\\end{enumerate*}\n",
       "\n",
       "\\end{enumerate}\n"
      ],
      "text/markdown": [
       "1. 1. 'easypackages'\n",
       "2. 'stats'\n",
       "3. 'graphics'\n",
       "4. 'grDevices'\n",
       "5. 'utils'\n",
       "6. 'datasets'\n",
       "7. 'methods'\n",
       "8. 'base'\n",
       "\n",
       "\n",
       "\n",
       "\n",
       "\n"
      ],
      "text/plain": [
       "[[1]]\n",
       "[1] \"easypackages\" \"stats\"        \"graphics\"     \"grDevices\"    \"utils\"       \n",
       "[6] \"datasets\"     \"methods\"      \"base\"        \n"
      ]
     },
     "metadata": {},
     "output_type": "display_data"
    },
    {
     "name": "stderr",
     "output_type": "stream",
     "text": [
      "Loading required package: dplyr\n",
      "\n",
      "\n",
      "Attaching package: ‘dplyr’\n",
      "\n",
      "\n",
      "The following objects are masked from ‘package:stats’:\n",
      "\n",
      "    filter, lag\n",
      "\n",
      "\n",
      "The following objects are masked from ‘package:base’:\n",
      "\n",
      "    intersect, setdiff, setequal, union\n",
      "\n",
      "\n",
      "Loading required package: tidyr\n",
      "\n",
      "All packages loaded successfully\n",
      "\n"
     ]
    }
   ],
   "source": [
    "myPackages <- c(\"easypackages\")\n",
    "#the argument `lib.loc = \"~/rlib\"` is used because the packages were installed in this folder in my case\n",
    "lapply(myPackages, library, lib.loc = \"~/rlib\", character.only = TRUE) \n",
    "libraries(\"dplyr\", \"tidyr\")"
   ]
  },
  {
   "cell_type": "markdown",
   "metadata": {},
   "source": [
    "#### Import the gallup data that contain every country."
   ]
  },
  {
   "cell_type": "code",
   "execution_count": 13,
   "metadata": {},
   "outputs": [
    {
     "name": "stderr",
     "output_type": "stream",
     "text": [
      "Ambiguous file format ('.dat'), but attempting 'data.table::fread(\"~/gallup data/The_Gallup_042722.dat\")'\n",
      "\n"
     ]
    }
   ],
   "source": [
    "gallupRaw <- rio::import(\"~/gallup data/The_Gallup_042722.dat\")"
   ]
  },
  {
   "cell_type": "markdown",
   "metadata": {},
   "source": [
    "We need country name, country code, weight, survey date, survey year, ls, hope, PA, NA\n",
    "\n",
    "Filter the data and save the it for future use."
   ]
  },
  {
   "cell_type": "code",
   "execution_count": 14,
   "metadata": {},
   "outputs": [],
   "source": [
    "gallupExtracted <- gallupRaw %>% select(COUNTRYNEW, COUNTRY_ISO3, WGT, \n",
    "                                        FIELD_DATE, WP4.INTERVIEWDATE = WP4, YEAR_WAVE, \n",
    "                                        YEAR_CALENDAR, ls = WP16, hope = WP18, \n",
    "                                        smile = WP63, enjoy = WP67, worry = WP69, \n",
    "                                        sad = WP70, stress = WP71, anger = WP74)\n",
    "write.csv(gallupExtracted, \"gallupExtracted.csv\", row.names = FALSE)"
   ]
  },
  {
   "cell_type": "code",
   "execution_count": 15,
   "metadata": {},
   "outputs": [
    {
     "data": {
      "text/html": [
       "<style>\n",
       ".list-inline {list-style: none; margin:0; padding: 0}\n",
       ".list-inline>li {display: inline-block}\n",
       ".list-inline>li:not(:last-child)::after {content: \"\\00b7\"; padding: 0 .5ex}\n",
       "</style>\n",
       "<ol class=list-inline><li>'COUNTRYNEW'</li><li>'COUNTRY_ISO3'</li><li>'WGT'</li><li>'FIELD_DATE'</li><li>'WP4.INTERVIEWDATE'</li><li>'YEAR_WAVE'</li><li>'YEAR_CALENDAR'</li><li>'ls'</li><li>'hope'</li><li>'smile'</li><li>'enjoy'</li><li>'worry'</li><li>'sad'</li><li>'stress'</li><li>'anger'</li></ol>\n"
      ],
      "text/latex": [
       "\\begin{enumerate*}\n",
       "\\item 'COUNTRYNEW'\n",
       "\\item 'COUNTRY\\_ISO3'\n",
       "\\item 'WGT'\n",
       "\\item 'FIELD\\_DATE'\n",
       "\\item 'WP4.INTERVIEWDATE'\n",
       "\\item 'YEAR\\_WAVE'\n",
       "\\item 'YEAR\\_CALENDAR'\n",
       "\\item 'ls'\n",
       "\\item 'hope'\n",
       "\\item 'smile'\n",
       "\\item 'enjoy'\n",
       "\\item 'worry'\n",
       "\\item 'sad'\n",
       "\\item 'stress'\n",
       "\\item 'anger'\n",
       "\\end{enumerate*}\n"
      ],
      "text/markdown": [
       "1. 'COUNTRYNEW'\n",
       "2. 'COUNTRY_ISO3'\n",
       "3. 'WGT'\n",
       "4. 'FIELD_DATE'\n",
       "5. 'WP4.INTERVIEWDATE'\n",
       "6. 'YEAR_WAVE'\n",
       "7. 'YEAR_CALENDAR'\n",
       "8. 'ls'\n",
       "9. 'hope'\n",
       "10. 'smile'\n",
       "11. 'enjoy'\n",
       "12. 'worry'\n",
       "13. 'sad'\n",
       "14. 'stress'\n",
       "15. 'anger'\n",
       "\n",
       "\n"
      ],
      "text/plain": [
       " [1] \"COUNTRYNEW\"        \"COUNTRY_ISO3\"      \"WGT\"              \n",
       " [4] \"FIELD_DATE\"        \"WP4.INTERVIEWDATE\" \"YEAR_WAVE\"        \n",
       " [7] \"YEAR_CALENDAR\"     \"ls\"                \"hope\"             \n",
       "[10] \"smile\"             \"enjoy\"             \"worry\"            \n",
       "[13] \"sad\"               \"stress\"            \"anger\"            "
      ]
     },
     "metadata": {},
     "output_type": "display_data"
    },
    {
     "data": {
      "text/html": [
       "<style>\n",
       ".list-inline {list-style: none; margin:0; padding: 0}\n",
       ".list-inline>li {display: inline-block}\n",
       ".list-inline>li:not(:last-child)::after {content: \"\\00b7\"; padding: 0 .5ex}\n",
       "</style>\n",
       "<ol class=list-inline><li>2450403</li><li>15</li></ol>\n"
      ],
      "text/latex": [
       "\\begin{enumerate*}\n",
       "\\item 2450403\n",
       "\\item 15\n",
       "\\end{enumerate*}\n"
      ],
      "text/markdown": [
       "1. 2450403\n",
       "2. 15\n",
       "\n",
       "\n"
      ],
      "text/plain": [
       "[1] 2450403      15"
      ]
     },
     "metadata": {},
     "output_type": "display_data"
    }
   ],
   "source": [
    "gallupExtracted <- rio::import(\"gallupExtracted.csv\")\n",
    "colnames(gallupExtracted)\n",
    "dim(gallupExtracted)"
   ]
  },
  {
   "cell_type": "markdown",
   "metadata": {},
   "source": [
    "Create a function for changing the \"DK\" / \"Refused\" response to NA."
   ]
  },
  {
   "cell_type": "code",
   "execution_count": 16,
   "metadata": {},
   "outputs": [],
   "source": [
    "na_codes <- function(x, ...) {\n",
    "    for(y in list(...))\n",
    "        x[x == y] <- NA\n",
    "    x\n",
    "}"
   ]
  },
  {
   "cell_type": "markdown",
   "metadata": {},
   "source": [
    "Change the \"DK\" / \"Refused\" response to NA\n",
    "\n",
    "Change the responses to SWB from [1 Yes, 2 No] to [1 Yes, 0 No] for getting the means for individual positive affect and negative affect"
   ]
  },
  {
   "cell_type": "code",
   "execution_count": null,
   "metadata": {},
   "outputs": [],
   "source": [
    "gallupAssas <- gallupExtracted\n",
    "#convert empty WP4.INTERVIEWDATE to NA\n",
    "gallupAssas <- gallupAssas %>% mutate(WP4.INTERVIEWDATE = na_if(WP4.INTERVIEWDATE, \"\")) \n",
    "#life satisfication\n",
    "gallupAssas$ls <- na_codes(gallupAssas$ls, 98, 99)\n",
    "#hope\n",
    "gallupAssas$hope <- na_codes(gallupAssas$hope, 98, 99)\n",
    "#pa and #na\n",
    "gallupAssas$smile <- 2 - na_codes(gallupAssas$smile, 3, 4)\n",
    "gallupAssas$enjoy <- 2 - na_codes(gallupAssas$enjoy, 3, 4)\n",
    "gallupAssas$worry <- 2 - na_codes(gallupAssas$worry, 3, 4)\n",
    "gallupAssas$sad <- 2 - na_codes(gallupAssas$sad, 3, 4)\n",
    "gallupAssas$stress <- 2 - na_codes(gallupAssas$stress, 3, 4)\n",
    "gallupAssas$anger <- 2 - na_codes(gallupAssas$anger, 3, 4)\n",
    "gallupAssas <- gallupAssas %>% \n",
    " rowwise() %>% \n",
    " mutate(pa = mean(cbind(enjoy, smile), na.rm=TRUE),\n",
    "        na = mean(cbind(worry, sad, stress, anger), na.rm=TRUE)) %>% ungroup\n",
    "head(gallupAssas)"
   ]
  },
  {
   "cell_type": "code",
   "execution_count": null,
   "metadata": {},
   "outputs": [],
   "source": [
    "write.csv(gallupAssas, \"gallupAssas.csv\")"
   ]
  },
  {
   "cell_type": "code",
   "execution_count": null,
   "metadata": {},
   "outputs": [],
   "source": [
    "colnames(gallupAssas)\n",
    "dim(gallupAssas)"
   ]
  }
 ],
 "metadata": {
  "kernelspec": {
   "display_name": "R 4.0.3",
   "language": "R",
   "name": "ir403"
  },
  "language_info": {
   "codemirror_mode": "r",
   "file_extension": ".r",
   "mimetype": "text/x-r-source",
   "name": "R",
   "pygments_lexer": "r",
   "version": "4.0.3"
  }
 },
 "nbformat": 4,
 "nbformat_minor": 4
}
